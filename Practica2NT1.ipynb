{
  "nbformat": 4,
  "nbformat_minor": 0,
  "metadata": {
    "colab": {
      "provenance": [],
      "authorship_tag": "ABX9TyM5dgBRmwa2IlLww4bP1hIU",
      "include_colab_link": true
    },
    "kernelspec": {
      "name": "python3",
      "display_name": "Python 3"
    },
    "language_info": {
      "name": "python"
    }
  },
  "cells": [
    {
      "cell_type": "markdown",
      "metadata": {
        "id": "view-in-github",
        "colab_type": "text"
      },
      "source": [
        "<a href=\"https://colab.research.google.com/github/MigueLucena/Determinacion-Tipos-de-Estrellas/blob/main/Practica2NT1.ipynb\" target=\"_parent\"><img src=\"https://colab.research.google.com/assets/colab-badge.svg\" alt=\"Open In Colab\"/></a>"
      ]
    },
    {
      "cell_type": "markdown",
      "source": [
        "#**PABLO PÉREZ GARCÍA (100472243) MIGUEL LUCENA BELMONTE (100472277)**"
      ],
      "metadata": {
        "id": "fXglGTTLe8Vn"
      }
    },
    {
      "cell_type": "markdown",
      "source": [
        "**EJERCICIO 1: PROGRAMACIÓN DE K-MEANS Y COMPARACIÓN CON LA IMPLEMENTACIÓN DE SKLEARN**"
      ],
      "metadata": {
        "id": "5bmmpc67fRRw"
      }
    },
    {
      "cell_type": "markdown",
      "source": [
        "*Usando el scaler StandardScaler:*"
      ],
      "metadata": {
        "id": "VGEr6ctiNeTT"
      }
    },
    {
      "cell_type": "code",
      "source": [
        "import pandas as pd\n",
        "import numpy as np\n",
        "from sklearn.preprocessing import OneHotEncoder, StandardScaler\n",
        "\n",
        "def load_data(file_path):\n",
        "    data = pd.read_csv(file_path)\n",
        "\n",
        "    # Detectar columnas no numéricas y numéricas\n",
        "    non_numeric_columns = data.select_dtypes(include=['object']).columns\n",
        "    numeric_columns = data.select_dtypes(include=[np.number]).columns\n",
        "\n",
        "    if len(non_numeric_columns) > 0:\n",
        "        # Aplicar codificación one-hot a las columnas no numéricas\n",
        "        encoder = OneHotEncoder(sparse=False)\n",
        "        non_numeric_data = encoder.fit_transform(data[non_numeric_columns])\n",
        "        encoded_columns = pd.DataFrame(non_numeric_data, columns=encoder.get_feature_names_out(non_numeric_columns))\n",
        "\n",
        "    if len(numeric_columns) > 0:\n",
        "        # Escalar las columnas numéricas\n",
        "        scaler = StandardScaler()\n",
        "        scaled_numeric_data = scaler.fit_transform(data[numeric_columns])\n",
        "        scaled_numeric_columns = pd.DataFrame(scaled_numeric_data, columns=numeric_columns)\n",
        "\n",
        "    # Combinar los datos codificados y escalados de nuevo en un solo DataFrame\n",
        "    if len(non_numeric_columns) > 0 and len(numeric_columns) > 0:\n",
        "        data = pd.concat([scaled_numeric_columns, encoded_columns], axis=1)\n",
        "    elif len(non_numeric_columns) > 0:\n",
        "        data = encoded_columns\n",
        "    elif len(numeric_columns) > 0:\n",
        "        data = scaled_numeric_columns\n",
        "\n",
        "    return data.values\n",
        "\n",
        "# Ejemplo de cómo utilizar la función\n",
        "data = load_data(\"stars_data.csv\")\n"
      ],
      "metadata": {
        "id": "ViU5V47wf3Lj",
        "colab": {
          "base_uri": "https://localhost:8080/"
        },
        "outputId": "25f8c188-14fa-47eb-fbcc-7de95a74c1b5"
      },
      "execution_count": null,
      "outputs": [
        {
          "output_type": "stream",
          "name": "stderr",
          "text": [
            "/usr/local/lib/python3.10/dist-packages/sklearn/preprocessing/_encoders.py:868: FutureWarning: `sparse` was renamed to `sparse_output` in version 1.2 and will be removed in 1.4. `sparse_output` is ignored unless you leave `sparse` to its default value.\n",
            "  warnings.warn(\n"
          ]
        }
      ]
    },
    {
      "cell_type": "code",
      "source": [
        "\n",
        "from sklearn.cluster import KMeans\n",
        "from sklearn.metrics import silhouette_score\n",
        "import time\n",
        "\n",
        "def kmeans_programada(data, n_clusters, max_iters=300):\n",
        "  #Se inicializan los centroides aleatoriamente\n",
        "  centroids = data[np.random.choice(data.shape[0], n_clusters, replace = False)]\n",
        "\n",
        "  for _ in range(max_iters):\n",
        "        # Asignamos cada punto al centroide más cercano\n",
        "        labels = np.argmin(np.linalg.norm(data[:, np.newaxis] - centroids, axis=2), axis=1)\n",
        "\n",
        "        # Actualizamos los centroides como la media de los puntos asignados a ellos\n",
        "        new_centroids = np.array([data[labels == i].mean(axis=0) for i in range(n_clusters)])\n",
        "\n",
        "        # Si los centroides no cambian, salimos del bucle\n",
        "        if np.all(centroids == new_centroids):\n",
        "            break\n",
        "\n",
        "        centroids = new_centroids\n",
        "\n",
        "        return centroids, labels\n",
        "\n",
        "\n",
        "#Especificamos el número de clusters con el que se va a trabajar\n",
        "n_clusters = 3\n",
        "\n",
        "# Medimos el tiempo de ejecución y comparar con la implementación de scikit-learn\n",
        "start_time_custom = time.time()\n",
        "centroids_custom, labels_custom = kmeans_programada(data, n_clusters)\n",
        "end_time_custom = time.time()\n",
        "custom_time = end_time_custom - start_time_custom\n",
        "\n",
        "start_time_sklearn = time.time()\n",
        "kmeans_sklearn = KMeans(n_clusters=n_clusters)\n",
        "labels_sklearn = kmeans_sklearn.fit_predict(data)\n",
        "end_time_sklearn = time.time()\n",
        "sklearn_time = end_time_sklearn - start_time_sklearn\n",
        "\n",
        "# Calculamos el coeficiente de silueta para ambas implementaciones\n",
        "silhouette_custom = silhouette_score(data, labels_custom)\n",
        "silhouette_sklearn = silhouette_score(data, labels_sklearn)\n",
        "\n",
        "print(\"Resultados de K-Means personalizado:\")\n",
        "print(\"Centroides:\", centroids_custom)\n",
        "print(\"Etiquetas:\", labels_custom)\n",
        "print(\"Coeficiente de silueta:\", silhouette_custom)\n",
        "print(\"Tiempo de ejecución:\", custom_time)\n",
        "\n",
        "print(\"\\nResultados de K-Means en scikit-learn:\")\n",
        "print(\"Centroides:\", kmeans_sklearn.cluster_centers_)\n",
        "print(\"Etiquetas:\", labels_sklearn)\n",
        "print(\"Coeficiente de silueta:\", silhouette_sklearn)\n",
        "print(\"Tiempo de ejecución:\", sklearn_time)\n",
        "\n"
      ],
      "metadata": {
        "colab": {
          "base_uri": "https://localhost:8080/"
        },
        "id": "AVclPoAdhIfN",
        "outputId": "6fc03f5c-7d1e-4fa9-892d-a6e0a169517c"
      },
      "execution_count": null,
      "outputs": [
        {
          "output_type": "stream",
          "name": "stdout",
          "text": [
            "Resultados de K-Means personalizado:\n",
            "Centroides: [[-0.74608825 -0.18518039  0.19430199  0.15181078  0.          0.\n",
            "   0.          0.          0.          0.01010101  0.01010101  0.\n",
            "   0.93939394  0.          0.          0.          0.01010101  0.\n",
            "   0.          0.01010101  0.02020202  0.          0.          0.01010101\n",
            "   0.01010101  0.05050505  0.92929293  0.        ]\n",
            " [ 0.84864986  0.34393391 -0.04165753 -0.45262456  0.51376147  0.09174312\n",
            "   0.01834862  0.00917431  0.23853211  0.00917431  0.          0.\n",
            "   0.          0.02752294  0.          0.01834862  0.          0.01834862\n",
            "   0.01834862  0.03669725  0.          0.11926606  0.42201835  0.08256881\n",
            "   0.          0.00917431  0.          0.36697248]\n",
            " [-0.58250307 -0.59862305 -0.4592258   1.07208783  0.          0.\n",
            "   0.0625      0.          0.          0.          0.          0.03125\n",
            "   0.59375     0.125       0.03125     0.          0.          0.03125\n",
            "   0.03125     0.09375     0.          0.1875      0.          0.21875\n",
            "   0.          0.          0.59375     0.        ]]\n",
            "Etiquetas: [0 0 0 0 0 0 0 0 0 0 0 0 0 0 0 0 0 0 0 0 1 2 2 2 1 1 2 2 1 2 1 1 1 1 2 1 1\n",
            " 1 2 2 0 0 0 0 0 0 0 0 0 1 0 0 0 0 0 0 0 0 0 0 2 2 0 0 2 2 2 0 0 2 0 0 0 0\n",
            " 0 0 0 0 0 0 2 1 2 1 1 1 1 1 1 1 0 0 0 0 1 1 0 1 1 1 1 1 1 1 1 1 1 1 1 1 0\n",
            " 0 0 0 0 0 0 0 0 0 2 2 2 0 2 2 0 0 2 0 0 0 0 0 0 0 0 0 0 0 1 1 1 1 1 2 1 1\n",
            " 2 1 1 1 1 1 1 1 1 1 1 1 1 1 1 1 1 1 1 1 1 1 0 0 1 1 0 0 1 1 1 1 0 2 2 2 2\n",
            " 0 0 2 2 2 0 0 0 0 0 0 0 0 0 0 1 1 1 1 1 1 1 1 1 1 1 1 1 1 1 1 1 1 1 1 1 1\n",
            " 1 1 1 1 1 1 1 1 1 1 1 1 1 1 1 1 1 1]\n",
            "Coeficiente de silueta: 0.044668119223742295\n",
            "Tiempo de ejecución: 0.000797271728515625\n",
            "\n",
            "Resultados de K-Means en scikit-learn:\n",
            "Centroides: [[-8.43740413e-02  1.17023199e+00  2.24300622e+00 -1.34408975e+00\n",
            "   1.11111111e-01 -1.38777878e-17 -3.46944695e-18 -8.67361738e-19\n",
            "   1.38888889e-01  5.55555556e-02 -8.67361738e-19 -8.67361738e-19\n",
            "   6.38888889e-01  5.55555556e-02 -8.67361738e-19 -1.73472348e-18\n",
            "  -8.67361738e-19 -5.20417043e-18 -5.20417043e-18 -6.93889390e-18\n",
            "  -1.73472348e-18  5.55555556e-02  1.66666667e-01  1.38777878e-17\n",
            "   2.77777778e-02  5.55555556e-02  6.11111111e-01  8.33333333e-02]\n",
            " [-4.14830083e-01 -5.24271111e-01 -4.53077959e-01  6.47110408e-01\n",
            "   7.33333333e-02  6.66666667e-02  2.66666667e-02  6.66666667e-03\n",
            "   5.33333333e-02  1.21430643e-17  6.66666667e-03  6.66666667e-03\n",
            "   5.93333333e-01  3.33333333e-02  6.66666667e-03  1.33333333e-02\n",
            "   6.66666667e-03  2.00000000e-02  2.00000000e-02  5.33333333e-02\n",
            "   1.33333333e-02  1.13333333e-01  1.53333333e-01  1.13333333e-01\n",
            "   6.07153217e-18  2.66666667e-02  5.93333333e-01 -2.77555756e-16]\n",
            " [ 1.20855515e+00  6.76153982e-01 -2.36787596e-01 -9.01469080e-01\n",
            "   7.59259259e-01 -6.93889390e-18 -2.08166817e-17 -5.20417043e-18\n",
            "   2.40740741e-01 -1.04083409e-17 -5.20417043e-18 -5.20417043e-18\n",
            "   5.55111512e-16  3.46944695e-17 -5.20417043e-18 -1.04083409e-17\n",
            "  -5.20417043e-18  8.67361738e-18  8.67361738e-18 -4.16333634e-17\n",
            "  -1.04083409e-17  4.16333634e-17  3.14814815e-01  2.77555756e-17\n",
            "  -5.20417043e-18  1.73472348e-17  3.88578059e-16  6.85185185e-01]]\n",
            "Etiquetas: [1 1 1 1 1 1 1 1 1 1 1 1 1 1 1 1 1 1 1 1 1 1 1 1 1 1 1 1 1 1 2 2 2 1 1 1 1\n",
            " 1 1 1 1 1 1 1 1 1 1 1 1 2 0 0 0 0 0 0 0 0 0 0 1 1 1 1 1 1 1 1 1 1 1 1 1 1\n",
            " 1 1 1 1 1 1 1 1 1 1 1 1 1 1 1 1 1 1 1 1 1 1 1 1 1 2 2 2 2 2 2 2 2 2 2 2 0\n",
            " 0 0 0 0 0 0 0 0 0 1 1 1 1 1 1 1 1 1 1 1 1 1 1 1 1 1 1 1 1 1 1 1 1 1 1 1 1\n",
            " 1 1 2 1 1 2 2 2 2 2 1 2 2 2 2 2 2 2 2 2 2 2 0 0 0 0 0 0 2 0 2 0 1 1 1 1 1\n",
            " 1 1 1 1 1 1 1 1 1 1 1 1 1 1 1 1 1 1 1 1 1 2 2 1 1 2 1 1 2 2 2 1 2 2 1 2 2\n",
            " 2 2 2 2 2 2 2 2 0 2 0 0 0 2 0 0 0 0]\n",
            "Coeficiente de silueta: 0.42991691758332135\n",
            "Tiempo de ejecución: 0.052828073501586914\n"
          ]
        },
        {
          "output_type": "stream",
          "name": "stderr",
          "text": [
            "/usr/local/lib/python3.10/dist-packages/sklearn/cluster/_kmeans.py:870: FutureWarning: The default value of `n_init` will change from 10 to 'auto' in 1.4. Set the value of `n_init` explicitly to suppress the warning\n",
            "  warnings.warn(\n"
          ]
        }
      ]
    },
    {
      "cell_type": "markdown",
      "source": [
        "*Sin usar ningún scaler:*"
      ],
      "metadata": {
        "id": "MffLgmDgNkwm"
      }
    },
    {
      "cell_type": "code",
      "source": [
        "import pandas as pd\n",
        "from sklearn.preprocessing import OneHotEncoder\n",
        "\n",
        "def load_data(file_path):\n",
        "    data = pd.read_csv(file_path)\n",
        "\n",
        "    # Detectar columnas no numéricas y aplicar codificación one-hot\n",
        "    non_numeric_columns = data.select_dtypes(include=['object']).columns\n",
        "    if len(non_numeric_columns) > 0:\n",
        "        encoder = OneHotEncoder(sparse=False)\n",
        "        non_numeric_data = encoder.fit_transform(data[non_numeric_columns])\n",
        "\n",
        "        # Eliminar las columnas originales no numéricas\n",
        "        data = data.drop(non_numeric_columns, axis=1)\n",
        "\n",
        "        # Añadir los datos codificados al DataFrame original\n",
        "        encoded_columns = pd.DataFrame(non_numeric_data, columns=encoder.get_feature_names_out(non_numeric_columns))\n",
        "        data = pd.concat([data, encoded_columns], axis=1)\n",
        "\n",
        "    return data.values\n",
        "\n",
        "# Ejemplo de cómo utilizar la función\n",
        "data = load_data(\"stars_data.csv\")\n"
      ],
      "metadata": {
        "colab": {
          "base_uri": "https://localhost:8080/"
        },
        "id": "Xg2tjNhINr0b",
        "outputId": "93bbcf5f-65cc-4ec7-ec70-d50bcfeec19b"
      },
      "execution_count": null,
      "outputs": [
        {
          "output_type": "stream",
          "name": "stderr",
          "text": [
            "/usr/local/lib/python3.10/dist-packages/sklearn/preprocessing/_encoders.py:868: FutureWarning: `sparse` was renamed to `sparse_output` in version 1.2 and will be removed in 1.4. `sparse_output` is ignored unless you leave `sparse` to its default value.\n",
            "  warnings.warn(\n"
          ]
        }
      ]
    },
    {
      "cell_type": "code",
      "source": [
        "\n",
        "# Medimos el tiempo de ejecución y comparar con la implementación de scikit-learn\n",
        "start_time_custom = time.time()\n",
        "centroids_custom, labels_custom = kmeans_programada(data, n_clusters)\n",
        "end_time_custom = time.time()\n",
        "custom_time = end_time_custom - start_time_custom\n",
        "\n",
        "start_time_sklearn = time.time()\n",
        "kmeans_sklearn = KMeans(n_clusters=n_clusters)\n",
        "labels_sklearn = kmeans_sklearn.fit_predict(data)\n",
        "end_time_sklearn = time.time()\n",
        "sklearn_time = end_time_sklearn - start_time_sklearn\n",
        "\n",
        "# Calculamos el coeficiente de silueta para ambas implementaciones\n",
        "silhouette_custom = silhouette_score(data, labels_custom)\n",
        "silhouette_sklearn = silhouette_score(data, labels_sklearn)\n",
        "\n",
        "print(\"Resultados de K-Means personalizado:\")\n",
        "print(\"Centroides:\", centroids_custom)\n",
        "print(\"Etiquetas:\", labels_custom)\n",
        "print(\"Coeficiente de silueta:\", silhouette_custom)\n",
        "print(\"Tiempo de ejecución:\", custom_time)\n",
        "\n",
        "print(\"\\nResultados de K-Means en scikit-learn:\")\n",
        "print(\"Centroides:\", kmeans_sklearn.cluster_centers_)\n",
        "print(\"Etiquetas:\", labels_sklearn)\n",
        "print(\"Coeficiente de silueta:\", silhouette_sklearn)\n",
        "print(\"Tiempo de ejecución:\", sklearn_time)\n",
        "\n"
      ],
      "metadata": {
        "colab": {
          "base_uri": "https://localhost:8080/"
        },
        "id": "GKJpOt79OHmD",
        "outputId": "da141678-5b43-4994-a1bb-19487d12a0f1"
      },
      "execution_count": null,
      "outputs": [
        {
          "output_type": "stream",
          "name": "stderr",
          "text": [
            "/usr/local/lib/python3.10/dist-packages/sklearn/cluster/_kmeans.py:870: FutureWarning: The default value of `n_init` will change from 10 to 'auto' in 1.4. Set the value of `n_init` explicitly to suppress the warning\n",
            "  warnings.warn(\n"
          ]
        },
        {
          "output_type": "stream",
          "name": "stdout",
          "text": [
            "Resultados de K-Means personalizado:\n",
            "Centroides: [[2.73404348e+03 6.81478261e-04 1.15973913e-01 1.69096522e+01\n",
            "  0.00000000e+00 0.00000000e+00 0.00000000e+00 0.00000000e+00\n",
            "  0.00000000e+00 0.00000000e+00 0.00000000e+00 0.00000000e+00\n",
            "  1.00000000e+00 0.00000000e+00 0.00000000e+00 0.00000000e+00\n",
            "  0.00000000e+00 0.00000000e+00 0.00000000e+00 0.00000000e+00\n",
            "  0.00000000e+00 0.00000000e+00 0.00000000e+00 0.00000000e+00\n",
            "  0.00000000e+00 0.00000000e+00 1.00000000e+00 0.00000000e+00]\n",
            " [3.05960000e+03 1.40000031e+04 1.46428500e+00 1.34065000e+01\n",
            "  0.00000000e+00 0.00000000e+00 0.00000000e+00 0.00000000e+00\n",
            "  0.00000000e+00 0.00000000e+00 0.00000000e+00 0.00000000e+00\n",
            "  1.00000000e+00 0.00000000e+00 0.00000000e+00 0.00000000e+00\n",
            "  0.00000000e+00 0.00000000e+00 0.00000000e+00 0.00000000e+00\n",
            "  0.00000000e+00 0.00000000e+00 0.00000000e+00 0.00000000e+00\n",
            "  0.00000000e+00 0.00000000e+00 1.00000000e+00 0.00000000e+00]\n",
            " [1.21589645e+04 1.29163486e+05 2.88760987e+02 2.00367005e+00\n",
            "  2.84263959e-01 5.07614213e-02 2.03045685e-02 5.07614213e-03\n",
            "  1.31979695e-01 1.01522843e-02 5.07614213e-03 5.07614213e-03\n",
            "  3.50253807e-01 3.55329949e-02 5.07614213e-03 1.01522843e-02\n",
            "  5.07614213e-03 1.52284264e-02 1.52284264e-02 4.06091371e-02\n",
            "  1.01522843e-02 9.64467005e-02 2.33502538e-01 8.62944162e-02\n",
            "  5.07614213e-03 3.04568528e-02 3.45177665e-01 2.03045685e-01]]\n",
            "Etiquetas: [1 1 0 0 0 0 0 0 0 0 2 1 1 2 0 2 0 2 2 2 2 2 2 2 2 2 2 2 2 2 2 2 2 2 2 2 2\n",
            " 2 2 2 2 2 2 2 1 2 2 2 2 2 2 2 2 2 2 2 2 2 2 2 2 2 1 0 1 2 1 0 0 0 2 2 2 1\n",
            " 2 1 0 2 0 1 2 2 2 2 2 2 2 2 2 2 2 2 2 2 2 2 2 2 2 2 2 2 2 2 2 2 2 2 2 2 2\n",
            " 2 2 2 2 2 2 2 2 2 2 2 2 1 2 2 1 0 0 0 1 2 1 1 2 2 1 2 2 2 2 2 2 2 2 2 2 2\n",
            " 2 2 2 2 2 2 2 2 2 2 2 2 2 2 2 2 2 2 2 2 2 2 2 2 2 2 2 2 2 2 2 2 0 0 2 2 2\n",
            " 0 1 2 0 2 2 2 1 2 2 2 1 2 2 2 2 2 2 2 2 2 2 2 2 2 2 2 2 2 2 2 2 2 2 2 2 2\n",
            " 2 2 2 2 2 2 2 2 2 2 2 2 2 2 2 2 2 2]\n",
            "Coeficiente de silueta: -0.38846958589124714\n",
            "Tiempo de ejecución: 0.0006346702575683594\n",
            "\n",
            "Resultados de K-Means en scikit-learn:\n",
            "Centroides: [[ 7.98365625e+03  4.77372370e+03  2.85410033e+01  1.04183875e+01\n",
            "   8.75000000e-02  6.25000000e-02  2.50000000e-02  6.25000000e-03\n",
            "   1.25000000e-01  1.38777878e-17  6.25000000e-03  6.25000000e-03\n",
            "   5.25000000e-01  3.12500000e-02  6.25000000e-03  1.25000000e-02\n",
            "   6.25000000e-03  1.87500000e-02  1.87500000e-02  5.00000000e-02\n",
            "   1.25000000e-02  1.06250000e-01  2.31250000e-01  1.06250000e-01\n",
            "   6.93889390e-18  2.50000000e-02  5.25000000e-01  6.25000000e-03]\n",
            " [ 1.47966176e+04  2.45388029e+05  6.19835397e+02 -7.60911765e+00\n",
            "   5.14705882e-01  2.08166817e-17 -1.38777878e-17 -3.46944695e-18\n",
            "   5.88235294e-02 -6.93889390e-18 -3.46944695e-18 -3.46944695e-18\n",
            "   4.11764706e-01  1.47058824e-02 -3.46944695e-18 -6.93889390e-18\n",
            "  -3.46944695e-18  1.56125113e-17  1.56125113e-17 -2.77555756e-17\n",
            "  -6.93889390e-18  1.47058824e-02  1.02941176e-01 -5.55111512e-17\n",
            "   1.47058824e-02  1.47058824e-02  3.82352941e-01  4.70588235e-01]\n",
            " [ 1.96530000e+04  6.89585417e+05  8.50208333e+02 -8.14558333e+00\n",
            "   5.83333333e-01  0.00000000e+00  3.46944695e-18  8.67361738e-19\n",
            "   1.66666667e-01  1.66666667e-01  8.67361738e-19  8.67361738e-19\n",
            "   0.00000000e+00  8.33333333e-02  8.67361738e-19  1.73472348e-18\n",
            "   8.67361738e-19  1.73472348e-18  1.73472348e-18  6.93889390e-18\n",
            "   1.73472348e-18  8.33333333e-02  1.66666667e-01  2.77555756e-17\n",
            "   8.67361738e-19  8.33333333e-02  8.33333333e-02  5.83333333e-01]]\n",
            "Etiquetas: [0 0 0 0 0 0 0 0 0 0 0 0 0 0 0 0 0 0 0 0 0 0 0 0 0 0 0 0 0 0 1 0 0 0 0 0 0\n",
            " 0 0 0 1 1 1 1 1 1 0 1 1 1 1 1 1 2 1 1 1 1 1 1 0 0 0 0 0 0 0 0 0 0 0 0 0 0\n",
            " 0 0 0 0 0 0 0 0 0 0 0 0 0 0 0 0 0 0 0 0 0 0 0 0 0 1 1 2 1 1 0 1 1 1 1 1 0\n",
            " 1 1 0 1 1 1 0 1 1 0 0 0 0 0 0 0 0 0 0 0 0 0 0 0 0 0 0 0 0 0 0 0 0 0 0 0 0\n",
            " 0 0 1 0 0 0 0 0 0 0 0 1 1 1 1 1 1 1 1 1 1 1 1 1 2 1 1 1 1 1 0 1 0 0 0 0 0\n",
            " 0 0 0 0 0 0 0 0 0 0 0 0 0 0 0 0 0 0 0 0 0 0 0 0 0 0 0 0 0 1 1 0 0 0 0 1 1\n",
            " 1 2 1 1 2 2 1 2 1 1 2 2 2 1 2 2 1 1]\n",
            "Coeficiente de silueta: 0.8102645810507881\n",
            "Tiempo de ejecución: 0.06386184692382812\n"
          ]
        }
      ]
    },
    {
      "cell_type": "markdown",
      "source": [
        "**EJERCICIO 2: CODIFICACIÓN DE ONE-HOT ENCODING Y CODIFICACIÓN COMO VARIABLE ORDINAL**"
      ],
      "metadata": {
        "id": "juGNMjD5KgcM"
      }
    },
    {
      "cell_type": "markdown",
      "source": [
        "Resultados del k-means de sklearn con one-hot encoding:"
      ],
      "metadata": {
        "id": "Buh9CYHxPno6"
      }
    },
    {
      "cell_type": "code",
      "source": [
        "start_time_onehot = time.time()\n",
        "kmeans_onehot = KMeans(n_clusters=n_clusters)\n",
        "labels_onehot = kmeans_onehot.fit_predict(data)\n",
        "end_time_onehot = time.time()\n",
        "onehot_time = end_time_onehot - start_time_onehot\n",
        "\n",
        "silhouette_onehot = silhouette_score(data, labels_onehot)\n",
        "\n",
        "print(\"\\nResultados de K-Means usando One-Hot Encoding:\")\n",
        "print(\"Etiquetas:\", labels_onehot)\n",
        "print(\"Coeficiente de silueta:\", silhouette_onehot)\n",
        "print(\"Tiempo de ejecución:\", onehot_time)"
      ],
      "metadata": {
        "colab": {
          "base_uri": "https://localhost:8080/"
        },
        "id": "xgxOoXNcNqo6",
        "outputId": "36eb1d35-dda8-4a33-c5ac-250f642e95cd"
      },
      "execution_count": null,
      "outputs": [
        {
          "output_type": "stream",
          "name": "stderr",
          "text": [
            "/usr/local/lib/python3.10/dist-packages/sklearn/cluster/_kmeans.py:870: FutureWarning: The default value of `n_init` will change from 10 to 'auto' in 1.4. Set the value of `n_init` explicitly to suppress the warning\n",
            "  warnings.warn(\n"
          ]
        },
        {
          "output_type": "stream",
          "name": "stdout",
          "text": [
            "\n",
            "Resultados de K-Means usando One-Hot Encoding:\n",
            "Etiquetas: [0 0 0 0 0 0 0 0 0 0 0 0 0 0 0 0 0 0 0 0 0 0 0 0 0 0 0 0 0 0 2 0 0 0 0 0 0\n",
            " 0 0 0 2 2 2 2 2 2 0 2 2 2 2 2 2 1 2 2 2 2 2 2 0 0 0 0 0 0 0 0 0 0 0 0 0 0\n",
            " 0 0 0 0 0 0 0 0 0 0 0 0 0 0 0 0 0 0 0 0 0 0 0 0 0 2 2 1 2 2 0 2 2 2 2 2 0\n",
            " 2 2 0 2 2 2 0 2 2 0 0 0 0 0 0 0 0 0 0 0 0 0 0 0 0 0 0 0 0 0 0 0 0 0 0 0 0\n",
            " 0 0 2 0 0 0 0 0 0 0 0 2 2 2 2 2 2 2 2 2 2 2 2 2 1 2 2 2 2 2 0 2 0 0 0 0 0\n",
            " 0 0 0 0 0 0 0 0 0 0 0 0 0 0 0 0 0 0 0 0 0 0 0 0 0 0 0 0 0 2 2 0 0 0 0 2 2\n",
            " 2 1 2 2 1 1 2 1 2 2 1 1 1 2 1 1 2 2]\n",
            "Coeficiente de silueta: 0.8102645810507881\n",
            "Tiempo de ejecución: 0.1102590560913086\n"
          ]
        }
      ]
    },
    {
      "cell_type": "markdown",
      "source": [
        "Resultados del k-means de sklearn codificando como variable ordinal:\n",
        "\n"
      ],
      "metadata": {
        "id": "1AF6g4ysZT7L"
      }
    },
    {
      "cell_type": "code",
      "source": [
        "from sklearn.preprocessing import OrdinalEncoder\n",
        "\n",
        "def load_data(file_path):\n",
        "    data = pd.read_csv(file_path)\n",
        "\n",
        "    # Detectar columnas no numéricas y numéricas\n",
        "    non_numeric_columns = data.select_dtypes(include=['object']).columns\n",
        "    numeric_columns = data.select_dtypes(include=[np.number]).columns\n",
        "\n",
        "    if len(non_numeric_columns) > 0:\n",
        "        # Codificar las columnas no numéricas como variables ordinales\n",
        "        encoder = OrdinalEncoder()\n",
        "        ordinal_encoded_data = encoder.fit_transform(data[non_numeric_columns])\n",
        "        ordinal_encoded_columns = pd.DataFrame(ordinal_encoded_data, columns=non_numeric_columns)\n",
        "\n",
        "    if len(numeric_columns) > 0:\n",
        "        # Escalar las columnas numéricas\n",
        "        scaler = StandardScaler()\n",
        "        scaled_numeric_data = scaler.fit_transform(data[numeric_columns])\n",
        "        scaled_numeric_columns = pd.DataFrame(scaled_numeric_data, columns=numeric_columns)\n",
        "\n",
        "    # Combinar los datos codificados y escalados de nuevo en un solo DataFrame\n",
        "    if len(non_numeric_columns) > 0 and len(numeric_columns) > 0:\n",
        "        data = pd.concat([scaled_numeric_columns, ordinal_encoded_columns], axis=1)\n",
        "    elif len(non_numeric_columns) > 0:\n",
        "        data = ordinal_encoded_columns\n",
        "    elif len(numeric_columns) > 0:\n",
        "        data = scaled_numeric_columns\n",
        "\n",
        "    return data.values\n",
        "\n",
        "data = load_data(\"stars_data.csv\")\n",
        "\n",
        "\n",
        "\n",
        "start_time_ordinal = time.time()\n",
        "kmeans_ordinal = KMeans(n_clusters=n_clusters)\n",
        "labels_ordinal = kmeans_ordinal.fit_predict(data)\n",
        "end_time_ordinal = time.time()\n",
        "ordinal_time = end_time_ordinal - start_time_ordinal\n",
        "\n",
        "silhouette_ordinal = silhouette_score(data, labels_ordinal)\n",
        "\n",
        "print(\"\\nResultados de K-Means usando One-Hot Encoding:\")\n",
        "print(\"Etiquetas:\", labels_ordinal)\n",
        "print(\"Coeficiente de silueta:\", silhouette_ordinal)\n",
        "print(\"Tiempo de ejecución:\", ordinal_time)"
      ],
      "metadata": {
        "colab": {
          "base_uri": "https://localhost:8080/"
        },
        "id": "Nqnxxu2ZaICZ",
        "outputId": "dedcf64b-960d-4d03-8b40-5e5efaad62df"
      },
      "execution_count": null,
      "outputs": [
        {
          "output_type": "stream",
          "name": "stderr",
          "text": [
            "/usr/local/lib/python3.10/dist-packages/sklearn/cluster/_kmeans.py:870: FutureWarning: The default value of `n_init` will change from 10 to 'auto' in 1.4. Set the value of `n_init` explicitly to suppress the warning\n",
            "  warnings.warn(\n"
          ]
        },
        {
          "output_type": "stream",
          "name": "stdout",
          "text": [
            "\n",
            "Resultados de K-Means usando One-Hot Encoding:\n",
            "Etiquetas: [0 0 0 0 0 0 0 0 0 0 0 0 0 0 0 0 0 0 0 0 2 0 0 0 2 0 2 0 0 0 1 2 2 0 0 0 0\n",
            " 0 0 0 0 0 0 0 0 0 0 0 0 2 0 0 0 0 0 0 0 0 0 0 0 0 0 0 0 0 0 0 0 0 0 0 0 0\n",
            " 0 0 0 0 0 0 0 0 0 2 2 2 2 2 0 2 0 0 0 0 2 2 0 0 2 1 2 1 1 1 1 1 1 1 1 1 0\n",
            " 0 0 0 0 0 0 0 0 0 0 0 0 0 0 0 0 0 0 0 0 0 0 0 0 0 0 0 0 0 2 2 2 2 2 2 2 0\n",
            " 0 2 2 2 2 2 2 2 2 2 2 1 1 1 1 1 1 1 1 1 1 1 0 0 0 2 0 0 1 2 2 2 0 0 0 0 0\n",
            " 0 0 0 0 0 0 0 0 0 0 0 0 0 0 0 2 2 2 2 2 2 2 2 2 2 2 2 2 2 1 1 2 2 2 0 1 1\n",
            " 1 1 1 1 1 1 1 1 2 1 1 2 2 1 1 0 0 1]\n",
            "Coeficiente de silueta: 0.5925813744664216\n",
            "Tiempo de ejecución: 0.02500295639038086\n"
          ]
        }
      ]
    },
    {
      "cell_type": "markdown",
      "source": [
        "Como se puede ver, el tiempo de ejecución usando el cifrado con OrdinalEncoder es menor que si usamos One-Hot Encoding, sin embargo, al realizar el cifrado de las variables categóricas con One-Hot Encoding se obtiene mayor coeficiente de silueta, lo que nos indica que es más preciso."
      ],
      "metadata": {
        "id": "sJ-D5gUvdtPt"
      }
    },
    {
      "cell_type": "markdown",
      "source": [
        "**EJERCICIO 3: APLICACIÓN DE ALGORITMOS DE CLUSTERING**"
      ],
      "metadata": {
        "id": "Avfy79lOfRMn"
      }
    },
    {
      "cell_type": "markdown",
      "source": [
        "*Carga de datos aplicando One-Hot Encoding:*\n",
        "\n"
      ],
      "metadata": {
        "id": "ENEd90EPfbFE"
      }
    },
    {
      "cell_type": "code",
      "source": [
        "from sklearn.decomposition import PCA\n",
        "\n",
        "def load_data_onehot_pca(file_path):\n",
        "    data = pd.read_csv(file_path)\n",
        "\n",
        "    # Detectar columnas no numéricas y numéricas\n",
        "    non_numeric_columns = data.select_dtypes(include=['object']).columns\n",
        "    numeric_columns = data.select_dtypes(include=[np.number]).columns\n",
        "\n",
        "    if len(non_numeric_columns) > 0:\n",
        "        # Aplicar codificación one-hot a las columnas no numéricas\n",
        "        encoder = OneHotEncoder(sparse=False)\n",
        "        non_numeric_data = encoder.fit_transform(data[non_numeric_columns])\n",
        "        encoded_columns = pd.DataFrame(non_numeric_data, columns=encoder.get_feature_names_out(non_numeric_columns))\n",
        "\n",
        "    if len(numeric_columns) > 0:\n",
        "        # Escalar las columnas numéricas\n",
        "        scaler = StandardScaler()\n",
        "        scaled_numeric_data = scaler.fit_transform(data[numeric_columns])\n",
        "        scaled_numeric_columns = pd.DataFrame(scaled_numeric_data, columns=numeric_columns)\n",
        "\n",
        "    # Combinar los datos codificados y escalados de nuevo en un solo DataFrame\n",
        "    if len(non_numeric_columns) > 0 and len(numeric_columns) > 0:\n",
        "        data = pd.concat([scaled_numeric_columns, encoded_columns], axis=1)\n",
        "    elif len(non_numeric_columns) > 0:\n",
        "        data = encoded_columns\n",
        "    elif len(numeric_columns) > 0:\n",
        "        data = scaled_numeric_columns\n",
        "\n",
        "    pca = PCA(n_components=2)\n",
        "    data_pca = pca.fit_transform(data)\n",
        "\n",
        "    return data_pca\n",
        "\n",
        "data_onehot_pca = load_data_onehot_pca(\"stars_data.csv\")"
      ],
      "metadata": {
        "colab": {
          "base_uri": "https://localhost:8080/"
        },
        "id": "vBtPl8DPfaRG",
        "outputId": "59fae406-298b-4b01-9829-d02f99a5b956"
      },
      "execution_count": null,
      "outputs": [
        {
          "output_type": "stream",
          "name": "stderr",
          "text": [
            "/usr/local/lib/python3.10/dist-packages/sklearn/preprocessing/_encoders.py:868: FutureWarning: `sparse` was renamed to `sparse_output` in version 1.2 and will be removed in 1.4. `sparse_output` is ignored unless you leave `sparse` to its default value.\n",
            "  warnings.warn(\n"
          ]
        }
      ]
    },
    {
      "cell_type": "markdown",
      "source": [
        "*Carga de datos usando OrdinalEncoder:*"
      ],
      "metadata": {
        "id": "gVygOQ6Mhvc9"
      }
    },
    {
      "cell_type": "code",
      "source": [
        "def load_data_ordinal_pca(file_path):\n",
        "    data = pd.read_csv(file_path)\n",
        "\n",
        "    # Detectar columnas no numéricas y numéricas\n",
        "    non_numeric_columns = data.select_dtypes(include=['object']).columns\n",
        "    numeric_columns = data.select_dtypes(include=[np.number]).columns\n",
        "\n",
        "    if len(non_numeric_columns) > 0:\n",
        "        # Codificar las columnas no numéricas como variables ordinales\n",
        "        encoder = OrdinalEncoder()\n",
        "        ordinal_encoded_data = encoder.fit_transform(data[non_numeric_columns])\n",
        "        ordinal_encoded_columns = pd.DataFrame(ordinal_encoded_data, columns=non_numeric_columns)\n",
        "\n",
        "    if len(numeric_columns) > 0:\n",
        "        # Escalar las columnas numéricas\n",
        "        scaler = StandardScaler()\n",
        "        scaled_numeric_data = scaler.fit_transform(data[numeric_columns])\n",
        "        scaled_numeric_columns = pd.DataFrame(scaled_numeric_data, columns=numeric_columns)\n",
        "\n",
        "    # Combinar los datos codificados y escalados de nuevo en un solo DataFrame\n",
        "    if len(non_numeric_columns) > 0 and len(numeric_columns) > 0:\n",
        "        data = pd.concat([scaled_numeric_columns, ordinal_encoded_columns], axis=1)\n",
        "    elif len(non_numeric_columns) > 0:\n",
        "        data = ordinal_encoded_columns\n",
        "    elif len(numeric_columns) > 0:\n",
        "        data = scaled_numeric_columns\n",
        "\n",
        "    pca = PCA(n_components=2)\n",
        "    data_pca = pca.fit_transform(data)\n",
        "\n",
        "    return data_pca\n",
        "\n",
        "data_ordinal_pca = load_data_ordinal_pca(\"stars_data.csv\")"
      ],
      "metadata": {
        "id": "_tFLbC2LhylD"
      },
      "execution_count": 20,
      "outputs": []
    },
    {
      "cell_type": "markdown",
      "source": [
        "*Aplicando Hierarchical Clustering:*"
      ],
      "metadata": {
        "id": "49sTNvN2iwK5"
      }
    },
    {
      "cell_type": "code",
      "source": [
        "import matplotlib.pyplot as plt\n",
        "from sklearn.cluster import AgglomerativeClustering\n",
        "from scipy.cluster.hierarchy import dendrogram, linkage\n",
        "\n",
        "clustering = AgglomerativeClustering(n_clusters=3, affinity= 'euclidean' , linkage='ward')  # Número de clusters a encontrar\n",
        "labels_onehot_pca = clustering.fit_predict(data_onehot_pca)\n",
        "\n",
        "linkage_matrix_onehot_pca = linkage(data_onehot_pca, method='ward')\n",
        "# Generar un dendrograma para visualizar la jerarquía de clusters\n",
        "\n",
        "silhouette_avg = silhouette_score(data_onehot_pca, labels_onehot_pca)\n",
        "\n",
        "plt.figure(figsize=(10, 7))\n",
        "plt.title(\"Dendrograma Jerárquico con Silhouette Score: {:.2f}\".format(silhouette_avg))\n",
        "dendrogram(linkage_matrix_onehot_pca)  # No necesitas pasar los datos reales, solo para visualizar la estructura jerárquica\n",
        "plt.show()\n",
        "\n",
        "# Imprimir los resultados del clustering\n",
        "print(\"Resultados del clustering jerárquico:\")\n",
        "print(labels_onehot_pca)"
      ],
      "metadata": {
        "colab": {
          "base_uri": "https://localhost:8080/",
          "height": 816
        },
        "id": "8e02Qrkui4MD",
        "outputId": "f41e1e7e-f86e-48dd-bd8c-7a9115e16541"
      },
      "execution_count": null,
      "outputs": [
        {
          "output_type": "stream",
          "name": "stderr",
          "text": [
            "/usr/local/lib/python3.10/dist-packages/sklearn/cluster/_agglomerative.py:983: FutureWarning: Attribute `affinity` was deprecated in version 1.2 and will be removed in 1.4. Use `metric` instead\n",
            "  warnings.warn(\n"
          ]
        },
        {
          "output_type": "display_data",
          "data": {
            "text/plain": [
              "<Figure size 1000x700 with 1 Axes>"
            ],
            "image/png": "[encoded data removed]"
          },
          "metadata": {}
        },
        {
          "output_type": "stream",
          "name": "stdout",
          "text": [
            "Resultados del clustering jerárquico:\n",
            "[0 0 0 0 0 0 0 0 0 0 0 0 0 0 0 0 0 0 0 0 0 0 0 0 0 0 0 0 0 0 1 0 0 0 0 0 0\n",
            " 0 0 0 2 2 2 2 2 2 2 2 2 1 2 2 2 2 2 2 2 2 2 2 0 0 0 0 0 0 0 0 0 0 0 0 0 0\n",
            " 0 0 0 0 0 0 0 0 0 0 0 0 0 0 0 0 0 0 0 0 0 0 0 0 0 1 1 1 1 1 1 1 1 1 1 1 2\n",
            " 2 2 2 2 2 2 2 2 2 0 0 0 0 0 0 0 0 0 0 0 0 0 0 0 0 0 0 0 0 0 0 0 0 0 0 0 0\n",
            " 0 0 1 0 0 0 0 0 0 0 0 1 1 1 1 1 1 1 1 1 1 1 2 2 1 1 2 2 1 1 1 1 0 0 0 0 0\n",
            " 0 0 0 0 0 0 0 0 0 0 0 0 0 0 0 0 0 0 0 0 0 0 0 0 0 0 0 0 0 1 1 0 0 0 0 1 1\n",
            " 1 1 1 1 1 1 1 1 1 1 1 1 1 1 1 1 1 1]\n"
          ]
        }
      ]
    },
    {
      "cell_type": "code",
      "source": [
        "labels_ordinal_pca = clustering.fit_predict(data_ordinal_pca)\n",
        "\n",
        "linkage_matrix_ordinal_pca = linkage(data_ordinal_pca, method='ward')\n",
        "# Generar un dendrograma para visualizar la jerarquía de clusters\n",
        "\n",
        "silhouette_avg = silhouette_score(data_ordinal_pca, labels_ordinal_pca)\n",
        "\n",
        "plt.figure(figsize=(10, 7))\n",
        "plt.title(\"Dendrograma Jerárquico con Silhouette Score: {:.2f}\".format(silhouette_avg))\n",
        "dendrogram(linkage_matrix_ordinal_pca)  # No necesitas pasar los datos reales, solo para visualizar la estructura jerárquica\n",
        "plt.show()\n",
        "\n",
        "# Imprimir los resultados del clustering\n",
        "print(\"Resultados del clustering jerárquico:\")\n",
        "print(labels_ordinal_pca)"
      ],
      "metadata": {
        "colab": {
          "base_uri": "https://localhost:8080/",
          "height": 813
        },
        "id": "8Tf2hCNpqnlh",
        "outputId": "185e5044-4753-43eb-d5b1-77076cd1d3e8"
      },
      "execution_count": 21,
      "outputs": [
        {
          "output_type": "display_data",
          "data": {
            "text/plain": [
              "<Figure size 1000x700 with 1 Axes>"
            ],
            "image/png": "[encoded data removed]"
          },
          "metadata": {}
        },
        {
          "output_type": "stream",
          "name": "stdout",
          "text": [
            "Resultados del clustering jerárquico:\n",
            "[ 0  0  0  0  0  0  0  0  0  0  0  0  0  0  0  0  0  0  0  0  1 -1 -1 -1\n",
            "  1 -1 -1 -1 -1 -1  2  3  3 -1  4 -1  4  4  4  4  0  0  0  0  0  0  0  0\n",
            "  0 -1  0  0  0 -1  0  0  0  0  0  0  0  0  0  0  0  0  0  0  0  0  0  0\n",
            "  0  0  0  0  0  0  0  0 -1 -1 -1  1  1 -1  1  1 -1  5  4 -1 -1 -1  6  6\n",
            " -1  4  6  2 -1  2  2  2  2  2  2  2  2  2  0  0  0  0  0  0  0  0 -1  0\n",
            "  0  0  0  0  0  0  0  0  0  0  0  0  0  0  0  0  0  0  0  0  1  5  5  1\n",
            " -1 -1 -1 -1 -1  1  3 -1  6  3  3  3  3  3  6  2  2  2  2  2  2  2  2  2\n",
            "  2  2  0  0 -1 -1  0  0  2  3  3  3  0  0  0  0  0  0  0  0  0  0  0  0\n",
            "  0  0  0  0  0  0  0  0  5  5  5  5  5  5  5  5  5  5  3  6  6  3  2  2\n",
            "  6  3  3  4  2  2  2  2  2  2  2  2  2  2  3  2  2  3  3  2  2 -1 -1  2]\n"
          ]
        }
      ]
    },
    {
      "cell_type": "markdown",
      "source": [
        "*Aplicando DBSCAN:*"
      ],
      "metadata": {
        "id": "hVPMCeERmLc3"
      }
    },
    {
      "cell_type": "code",
      "source": [
        "from sklearn.cluster import DBSCAN\n",
        "\n",
        "\n",
        "# Aplicar el algoritmo DBSCAN\n",
        "eps = 0.5  # Radio de vecindad\n",
        "min_samples = 5  # Número mínimo de puntos en una vecindad para ser considerado core point\n",
        "clustering = DBSCAN(eps=eps, min_samples=min_samples)\n",
        "labels_onehot_pca = clustering.fit_predict(data_onehot_pca)\n",
        "\n",
        "# Calcular el coeficiente de silueta (opcional)\n",
        "silhouette_avg = silhouette_score(data_onehot_pca, labels_onehot_pca)\n",
        "\n",
        "# Imprimir los resultados del clustering\n",
        "print(\"Resultados del clustering DBSCAN:\")\n",
        "print(labels_onehot_pca)\n",
        "\n",
        "# Si deseas imprimir el coeficiente de silueta\n",
        "print(\"Coeficiente de Silueta:\", silhouette_avg)\n"
      ],
      "metadata": {
        "colab": {
          "base_uri": "https://localhost:8080/"
        },
        "id": "ykkbtAaqrOT6",
        "outputId": "a88b0de4-e82f-4442-cedb-d59deb0674e0"
      },
      "execution_count": 22,
      "outputs": [
        {
          "output_type": "stream",
          "name": "stdout",
          "text": [
            "Resultados del clustering DBSCAN:\n",
            "[ 0  0  0  0  0  0  0  0  0  0  0  0  0  0  0  0  0  0  0  0  1  1  1  1\n",
            "  1  1  1  1  1  1  1  1  1  1  1  1  1  1  1  1  2  2  2  2  2  2  2  2\n",
            "  2  1  3  3  3 -1  3  3 -1  3  3  3  0  0  0  0  0  0  0  0  0  0  0  0\n",
            "  0  0  0  0  0  0  0  0  1  1  1  1  1  1  1  1  1  1  1  1  1  1  1  1\n",
            "  1  1  1  1  1 -1  1  1  1  1  1  1  1  1  3  3  3  3  3  3  3  3  3  3\n",
            "  0  0  0  0  0  0  0  0  0  0  0  0  0  0  0  0  0  0  0  0  1  1  1  1\n",
            "  1  1  1  1  1  1  1  1  1  1  1  1  1  1  1  1  1  1  1  1  1  1  1  1\n",
            "  1  1  3  3 -1 -1  3  3 -1 -1  1 -1  0  0  0  0  0  0  0  0  0  0  0  0\n",
            "  0  0  0  0  0  0  0  0  1  1  1  1  1  1  1  1  1  1  1  1  1  1  1  1\n",
            "  1  1  1  1  1  1  1 -1  1  1  1 -1  1 -1 -1 -1 -1 -1 -1 -1 -1 -1 -1 -1]\n",
            "Coeficiente de Silueta: 0.49584405990719477\n"
          ]
        }
      ]
    },
    {
      "cell_type": "code",
      "source": [
        "# Aplicar el algoritmo DBSCAN\n",
        "eps = 0.5  # Radio de vecindad\n",
        "min_samples = 5  # Número mínimo de puntos en una vecindad para ser considerado core point\n",
        "clustering = DBSCAN(eps=eps, min_samples=min_samples)\n",
        "labels_ordinal = clustering.fit_predict(data_ordinal_pca)\n",
        "\n",
        "# Calcular el coeficiente de silueta (opcional)\n",
        "silhouette_avg = silhouette_score(data_ordinal_pca, labels_ordinal_pca)\n",
        "\n",
        "# Imprimir los resultados del clustering\n",
        "print(\"Resultados del clustering DBSCAN:\")\n",
        "print(labels_ordinal_pca)\n",
        "\n",
        "# Si deseas imprimir el coeficiente de silueta\n",
        "print(\"Coeficiente de Silueta:\", silhouette_avg)"
      ],
      "metadata": {
        "id": "o48WFpZtr7T7",
        "colab": {
          "base_uri": "https://localhost:8080/"
        },
        "outputId": "8a73323d-ad89-4bca-dbdb-6e9a760a2308"
      },
      "execution_count": 23,
      "outputs": [
        {
          "output_type": "stream",
          "name": "stdout",
          "text": [
            "Resultados del clustering DBSCAN:\n",
            "[ 0  0  0  0  0  0  0  0  0  0  0  0  0  0  0  0  0  0  0  0  1 -1 -1 -1\n",
            "  1 -1 -1 -1 -1 -1  2  3  3 -1  4 -1  4  4  4  4  0  0  0  0  0  0  0  0\n",
            "  0 -1  0  0  0 -1  0  0  0  0  0  0  0  0  0  0  0  0  0  0  0  0  0  0\n",
            "  0  0  0  0  0  0  0  0 -1 -1 -1  1  1 -1  1  1 -1  5  4 -1 -1 -1  6  6\n",
            " -1  4  6  2 -1  2  2  2  2  2  2  2  2  2  0  0  0  0  0  0  0  0 -1  0\n",
            "  0  0  0  0  0  0  0  0  0  0  0  0  0  0  0  0  0  0  0  0  1  5  5  1\n",
            " -1 -1 -1 -1 -1  1  3 -1  6  3  3  3  3  3  6  2  2  2  2  2  2  2  2  2\n",
            "  2  2  0  0 -1 -1  0  0  2  3  3  3  0  0  0  0  0  0  0  0  0  0  0  0\n",
            "  0  0  0  0  0  0  0  0  5  5  5  5  5  5  5  5  5  5  3  6  6  3  2  2\n",
            "  6  3  3  4  2  2  2  2  2  2  2  2  2  2  3  2  2  3  3  2  2 -1 -1  2]\n",
            "Coeficiente de Silueta: 0.71177862702693\n"
          ]
        }
      ]
    }
  ]
}