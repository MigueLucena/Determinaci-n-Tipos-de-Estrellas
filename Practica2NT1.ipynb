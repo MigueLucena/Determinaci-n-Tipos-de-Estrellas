{
  "nbformat": 4,
  "nbformat_minor": 0,
  "metadata": {
    "colab": {
      "provenance": [],
      "authorship_tag": "ABX9TyNi8+HiEJDtTivn0X+qx46C",
      "include_colab_link": true
    },
    "kernelspec": {
      "name": "python3",
      "display_name": "Python 3"
    },
    "language_info": {
      "name": "python"
    }
  },
  "cells": [
    {
      "cell_type": "markdown",
      "metadata": {
        "id": "view-in-github",
        "colab_type": "text"
      },
      "source": [
        "<a href=\"https://colab.research.google.com/github/MigueLucena/Determinacion-Tipos-de-Estrellas/blob/main/Practica2NT1.ipynb\" target=\"_parent\"><img src=\"https://colab.research.google.com/assets/colab-badge.svg\" alt=\"Open In Colab\"/></a>"
      ]
    },
    {
      "cell_type": "markdown",
      "source": [
        "#**PABLO PÉREZ GARCÍA (100472243) MIGUEL LUCENA BELMONTE (100472277)**"
      ],
      "metadata": {
        "id": "fXglGTTLe8Vn"
      }
    },
    {
      "cell_type": "markdown",
      "source": [
        "**EJERCICIO 1: PROGRAMACIÓN DE K-MEANS Y COMPARACIÓN CON LA IMPLEMENTACIÓN DE SKLEARN**"
      ],
      "metadata": {
        "id": "5bmmpc67fRRw"
      }
    },
    {
      "cell_type": "markdown",
      "source": [
        "*Usando el scaler StandardScaler:*"
      ],
      "metadata": {
        "id": "VGEr6ctiNeTT"
      }
    },
    {
      "cell_type": "code",
      "source": [
        "import pandas as pd\n",
        "from sklearn.preprocessing import OneHotEncoder, StandardScaler\n",
        "\n",
        "def load_data(file_path):\n",
        "    data = pd.read_csv(file_path)\n",
        "\n",
        "    # Detectar columnas no numéricas y numéricas\n",
        "    non_numeric_columns = data.select_dtypes(include=['object']).columns\n",
        "    numeric_columns = data.select_dtypes(include=[np.number]).columns\n",
        "\n",
        "    if len(non_numeric_columns) > 0:\n",
        "        # Aplicar codificación one-hot a las columnas no numéricas\n",
        "        encoder = OneHotEncoder(sparse=False)\n",
        "        non_numeric_data = encoder.fit_transform(data[non_numeric_columns])\n",
        "        encoded_columns = pd.DataFrame(non_numeric_data, columns=encoder.get_feature_names_out(non_numeric_columns))\n",
        "\n",
        "    if len(numeric_columns) > 0:\n",
        "        # Escalar las columnas numéricas\n",
        "        scaler = StandardScaler()\n",
        "        scaled_numeric_data = scaler.fit_transform(data[numeric_columns])\n",
        "        scaled_numeric_columns = pd.DataFrame(scaled_numeric_data, columns=numeric_columns)\n",
        "\n",
        "    # Combinar los datos codificados y escalados de nuevo en un solo DataFrame\n",
        "    if len(non_numeric_columns) > 0 and len(numeric_columns) > 0:\n",
        "        data = pd.concat([scaled_numeric_columns, encoded_columns], axis=1)\n",
        "    elif len(non_numeric_columns) > 0:\n",
        "        data = encoded_columns\n",
        "    elif len(numeric_columns) > 0:\n",
        "        data = scaled_numeric_columns\n",
        "\n",
        "    return data.values\n",
        "\n",
        "# Ejemplo de cómo utilizar la función\n",
        "data = load_data(\"stars_data.csv\")\n"
      ],
      "metadata": {
        "id": "ViU5V47wf3Lj",
        "colab": {
          "base_uri": "https://localhost:8080/"
        },
        "outputId": "25514dea-72ba-4589-a5fb-aa424bd55bca"
      },
      "execution_count": 7,
      "outputs": [
        {
          "output_type": "stream",
          "name": "stderr",
          "text": [
            "/usr/local/lib/python3.10/dist-packages/sklearn/preprocessing/_encoders.py:868: FutureWarning: `sparse` was renamed to `sparse_output` in version 1.2 and will be removed in 1.4. `sparse_output` is ignored unless you leave `sparse` to its default value.\n",
            "  warnings.warn(\n"
          ]
        }
      ]
    },
    {
      "cell_type": "code",
      "source": [
        "import numpy as np\n",
        "from sklearn.cluster import KMeans\n",
        "from sklearn.metrics import silhouette_score\n",
        "import time\n",
        "\n",
        "def kmeans_programada(data, n_clusters, max_iters=300):\n",
        "  #Se inicializan los centroides aleatoriamente\n",
        "  centroids = data[np.random.choice(data.shape[0], n_clusters, replace = False)]\n",
        "\n",
        "  for _ in range(max_iters):\n",
        "        # Asignamos cada punto al centroide más cercano\n",
        "        labels = np.argmin(np.linalg.norm(data[:, np.newaxis] - centroids, axis=2), axis=1)\n",
        "\n",
        "        # Actualizamos los centroides como la media de los puntos asignados a ellos\n",
        "        new_centroids = np.array([data[labels == i].mean(axis=0) for i in range(n_clusters)])\n",
        "\n",
        "        # Si los centroides no cambian, salimos del bucle\n",
        "        if np.all(centroids == new_centroids):\n",
        "            break\n",
        "\n",
        "        centroids = new_centroids\n",
        "\n",
        "        return centroids, labels\n",
        "\n",
        "\n",
        "#Especificamos el número de clusters con el que se va a trabajar\n",
        "n_clusters = 3\n",
        "\n",
        "# Medimos el tiempo de ejecución y comparar con la implementación de scikit-learn\n",
        "start_time_custom = time.time()\n",
        "centroids_custom, labels_custom = kmeans_programada(data, n_clusters)\n",
        "end_time_custom = time.time()\n",
        "custom_time = end_time_custom - start_time_custom\n",
        "\n",
        "start_time_sklearn = time.time()\n",
        "kmeans_sklearn = KMeans(n_clusters=n_clusters)\n",
        "labels_sklearn = kmeans_sklearn.fit_predict(data)\n",
        "end_time_sklearn = time.time()\n",
        "sklearn_time = end_time_sklearn - start_time_sklearn\n",
        "\n",
        "# Calculamos el coeficiente de silueta para ambas implementaciones\n",
        "silhouette_custom = silhouette_score(data, labels_custom)\n",
        "silhouette_sklearn = silhouette_score(data, labels_sklearn)\n",
        "\n",
        "print(\"Resultados de K-Means personalizado:\")\n",
        "print(\"Centroides:\", centroids_custom)\n",
        "print(\"Etiquetas:\", labels_custom)\n",
        "print(\"Coeficiente de silueta:\", silhouette_custom)\n",
        "print(\"Tiempo de ejecución:\", custom_time)\n",
        "\n",
        "print(\"\\nResultados de K-Means en scikit-learn:\")\n",
        "print(\"Centroides:\", kmeans_sklearn.cluster_centers_)\n",
        "print(\"Etiquetas:\", labels_sklearn)\n",
        "print(\"Coeficiente de silueta:\", silhouette_sklearn)\n",
        "print(\"Tiempo de ejecución:\", sklearn_time)\n",
        "\n"
      ],
      "metadata": {
        "colab": {
          "base_uri": "https://localhost:8080/"
        },
        "id": "AVclPoAdhIfN",
        "outputId": "5a046972-19e7-462d-f84e-97c3e464a53d"
      },
      "execution_count": 8,
      "outputs": [
        {
          "output_type": "stream",
          "name": "stdout",
          "text": [
            "Resultados de K-Means personalizado:\n",
            "Centroides: [[-0.61250534 -0.59862356 -0.45924676  1.08188488  0.02597403  0.02597403\n",
            "   0.03896104  0.          0.          0.          0.          0.01298701\n",
            "   0.77922078  0.05194805  0.01298701  0.          0.          0.01298701\n",
            "   0.03896104  0.          0.          0.09090909  0.05194805  0.07792208\n",
            "   0.          0.          0.77922078  0.        ]\n",
            " [ 0.26101484  1.29262374  1.26362162 -1.22513062  0.42857143  0.\n",
            "   0.          0.          0.0952381   0.03174603  0.          0.\n",
            "   0.41269841  0.03174603  0.          0.          0.          0.\n",
            "   0.          0.          0.          0.03174603  0.11111111  0.\n",
            "   0.01587302  0.03174603  0.3968254   0.41269841]\n",
            " [ 0.30718977 -0.35341281 -0.44246162 -0.06121906  0.27        0.08\n",
            "   0.01        0.01        0.2         0.          0.01        0.\n",
            "   0.26        0.01        0.          0.02        0.01        0.02\n",
            "   0.          0.08        0.02        0.1         0.35        0.11\n",
            "   0.          0.04        0.26        0.14      ]]\n",
            "Etiquetas: [0 0 0 0 0 0 0 0 0 0 2 2 0 2 2 0 0 2 0 2 2 0 0 0 2 2 0 0 2 0 2 2 2 2 2 2 2\n",
            " 2 2 2 2 1 2 2 2 1 2 2 1 2 1 1 1 1 1 1 1 1 1 1 0 0 0 0 0 0 0 0 0 0 2 2 0 2\n",
            " 2 2 0 2 0 0 0 2 0 2 2 0 2 2 0 2 2 2 2 2 2 2 2 2 2 2 2 1 2 1 2 2 1 2 2 1 1\n",
            " 1 1 1 1 1 1 1 1 1 0 0 0 0 0 0 0 0 0 0 2 2 2 0 0 0 2 0 2 0 0 2 2 2 2 0 0 0\n",
            " 0 2 2 2 2 2 2 2 2 2 2 2 2 1 1 1 1 2 2 2 1 1 1 1 1 1 1 1 1 1 1 1 0 0 0 0 0\n",
            " 0 0 0 0 0 2 2 0 0 2 0 0 0 0 0 0 2 2 0 2 2 2 2 2 2 2 2 2 2 2 2 2 2 2 2 1 1\n",
            " 1 1 1 1 1 1 1 1 1 1 1 1 1 1 1 1 1 1]\n",
            "Coeficiente de silueta: 0.21741823128771245\n",
            "Tiempo de ejecución: 0.0010173320770263672\n",
            "\n",
            "Resultados de K-Means en scikit-learn:\n",
            "Centroides: [[ 1.05755175e+00  4.03371215e-01 -3.84371633e-01 -6.56647475e-01\n",
            "   7.03125000e-01  1.56250000e-02 -1.73472348e-17 -4.33680869e-18\n",
            "   2.81250000e-01 -8.67361738e-18 -4.33680869e-18 -4.33680869e-18\n",
            "   7.21644966e-16  4.51028104e-17 -4.33680869e-18 -8.67361738e-18\n",
            "  -4.33680869e-18  1.38777878e-17  1.38777878e-17 -3.46944695e-17\n",
            "  -8.67361738e-18  7.81250000e-02  3.90625000e-01 -2.77555756e-17\n",
            "  -4.33680869e-18  2.77555756e-17  5.55111512e-16  5.31250000e-01]\n",
            " [-5.20630055e-01 -5.17388574e-01 -4.52917808e-01  6.88188674e-01\n",
            "   2.91970803e-02  6.56934307e-02  2.91970803e-02  7.29927007e-03\n",
            "   2.18978102e-02  1.21430643e-17  7.29927007e-03  7.29927007e-03\n",
            "   6.49635036e-01  3.64963504e-02  7.29927007e-03  1.45985401e-02\n",
            "   7.29927007e-03  2.18978102e-02  2.18978102e-02  5.83941606e-02\n",
            "   1.45985401e-02  8.75912409e-02  1.09489051e-01  1.24087591e-01\n",
            "   6.07153217e-18  2.91970803e-02  6.49635036e-01 -1.66533454e-16]\n",
            " [ 9.34103981e-02  1.15555069e+00  2.22178267e+00 -1.33990795e+00\n",
            "   1.79487179e-01 -2.08166817e-17 -1.04083409e-17 -2.60208521e-18\n",
            "   1.28205128e-01  5.12820513e-02 -2.60208521e-18 -2.60208521e-18\n",
            "   5.89743590e-01  5.12820513e-02 -2.60208521e-18 -5.20417043e-18\n",
            "  -2.60208521e-18 -5.20417043e-18 -5.20417043e-18 -2.08166817e-17\n",
            "  -5.20417043e-18  5.12820513e-02  1.53846154e-01  1.38777878e-17\n",
            "   2.56410256e-02  5.12820513e-02  5.64102564e-01  1.53846154e-01]]\n",
            "Etiquetas: [1 1 1 1 1 1 1 1 1 1 1 1 1 1 1 1 1 1 1 1 0 1 1 1 1 1 1 1 1 1 0 0 0 1 1 1 1\n",
            " 1 1 1 1 1 1 1 1 1 1 1 1 0 2 2 2 2 2 2 2 2 2 2 1 1 1 1 1 1 1 1 1 1 1 1 1 1\n",
            " 1 1 1 1 1 1 1 1 1 1 1 1 1 1 1 0 1 1 1 1 1 0 1 1 0 0 0 0 0 0 0 0 0 0 0 0 2\n",
            " 2 2 2 2 2 2 2 2 2 1 1 1 1 1 1 1 1 1 1 1 1 1 1 1 1 1 1 1 1 1 0 0 1 1 1 1 1\n",
            " 1 1 0 1 0 0 0 0 0 0 0 0 0 0 0 0 0 0 0 0 0 0 2 2 2 2 2 2 2 2 0 2 1 1 1 1 1\n",
            " 1 1 1 1 1 1 1 1 1 1 1 1 1 1 1 1 1 1 1 0 0 0 0 0 0 0 1 0 0 0 0 1 0 0 1 0 0\n",
            " 0 0 0 0 0 0 0 0 2 2 2 2 2 2 2 2 2 2]\n",
            "Coeficiente de silueta: 0.4105767718602422\n",
            "Tiempo de ejecución: 0.021216392517089844\n"
          ]
        },
        {
          "output_type": "stream",
          "name": "stderr",
          "text": [
            "/usr/local/lib/python3.10/dist-packages/sklearn/cluster/_kmeans.py:870: FutureWarning: The default value of `n_init` will change from 10 to 'auto' in 1.4. Set the value of `n_init` explicitly to suppress the warning\n",
            "  warnings.warn(\n"
          ]
        }
      ]
    },
    {
      "cell_type": "markdown",
      "source": [
        "*Sin usar ningún scaler:*"
      ],
      "metadata": {
        "id": "MffLgmDgNkwm"
      }
    },
    {
      "cell_type": "code",
      "source": [
        "import pandas as pd\n",
        "from sklearn.preprocessing import OneHotEncoder\n",
        "\n",
        "def load_data(file_path):\n",
        "    data = pd.read_csv(file_path)\n",
        "\n",
        "    # Detectar columnas no numéricas y aplicar codificación one-hot\n",
        "    non_numeric_columns = data.select_dtypes(include=['object']).columns\n",
        "    if len(non_numeric_columns) > 0:\n",
        "        encoder = OneHotEncoder(sparse=False)\n",
        "        non_numeric_data = encoder.fit_transform(data[non_numeric_columns])\n",
        "\n",
        "        # Eliminar las columnas originales no numéricas\n",
        "        data = data.drop(non_numeric_columns, axis=1)\n",
        "\n",
        "        # Añadir los datos codificados al DataFrame original\n",
        "        encoded_columns = pd.DataFrame(non_numeric_data, columns=encoder.get_feature_names_out(non_numeric_columns))\n",
        "        data = pd.concat([data, encoded_columns], axis=1)\n",
        "\n",
        "    return data.values\n",
        "\n",
        "# Ejemplo de cómo utilizar la función\n",
        "data = load_data(\"stars_data.csv\")\n"
      ],
      "metadata": {
        "colab": {
          "base_uri": "https://localhost:8080/"
        },
        "id": "Xg2tjNhINr0b",
        "outputId": "71072be7-94ca-4322-f3d9-aad1e2ec3b65"
      },
      "execution_count": 9,
      "outputs": [
        {
          "output_type": "stream",
          "name": "stderr",
          "text": [
            "/usr/local/lib/python3.10/dist-packages/sklearn/preprocessing/_encoders.py:868: FutureWarning: `sparse` was renamed to `sparse_output` in version 1.2 and will be removed in 1.4. `sparse_output` is ignored unless you leave `sparse` to its default value.\n",
            "  warnings.warn(\n"
          ]
        }
      ]
    },
    {
      "cell_type": "code",
      "source": [
        "\n",
        "# Medimos el tiempo de ejecución y comparar con la implementación de scikit-learn\n",
        "start_time_custom = time.time()\n",
        "centroids_custom, labels_custom = kmeans_programada(data, n_clusters)\n",
        "end_time_custom = time.time()\n",
        "custom_time = end_time_custom - start_time_custom\n",
        "\n",
        "start_time_sklearn = time.time()\n",
        "kmeans_sklearn = KMeans(n_clusters=n_clusters)\n",
        "labels_sklearn = kmeans_sklearn.fit_predict(data)\n",
        "end_time_sklearn = time.time()\n",
        "sklearn_time = end_time_sklearn - start_time_sklearn\n",
        "\n",
        "# Calculamos el coeficiente de silueta para ambas implementaciones\n",
        "silhouette_custom = silhouette_score(data, labels_custom)\n",
        "silhouette_sklearn = silhouette_score(data, labels_sklearn)\n",
        "\n",
        "print(\"Resultados de K-Means personalizado:\")\n",
        "print(\"Centroides:\", centroids_custom)\n",
        "print(\"Etiquetas:\", labels_custom)\n",
        "print(\"Coeficiente de silueta:\", silhouette_custom)\n",
        "print(\"Tiempo de ejecución:\", custom_time)\n",
        "\n",
        "print(\"\\nResultados de K-Means en scikit-learn:\")\n",
        "print(\"Centroides:\", kmeans_sklearn.cluster_centers_)\n",
        "print(\"Etiquetas:\", labels_sklearn)\n",
        "print(\"Coeficiente de silueta:\", silhouette_sklearn)\n",
        "print(\"Tiempo de ejecución:\", sklearn_time)\n",
        "\n"
      ],
      "metadata": {
        "colab": {
          "base_uri": "https://localhost:8080/"
        },
        "id": "GKJpOt79OHmD",
        "outputId": "702b8d27-badc-4508-c05c-385abb06df90"
      },
      "execution_count": 11,
      "outputs": [
        {
          "output_type": "stream",
          "name": "stderr",
          "text": [
            "/usr/local/lib/python3.10/dist-packages/sklearn/cluster/_kmeans.py:870: FutureWarning: The default value of `n_init` will change from 10 to 'auto' in 1.4. Set the value of `n_init` explicitly to suppress the warning\n",
            "  warnings.warn(\n"
          ]
        },
        {
          "output_type": "stream",
          "name": "stdout",
          "text": [
            "Resultados de K-Means personalizado:\n",
            "Centroides: [[ 1.57174655e+04  2.53859759e+05  6.03134603e+02 -7.55172414e+00\n",
            "   5.17241379e-01  0.00000000e+00  0.00000000e+00  0.00000000e+00\n",
            "   6.89655172e-02  0.00000000e+00  0.00000000e+00  0.00000000e+00\n",
            "   3.96551724e-01  1.72413793e-02  0.00000000e+00  0.00000000e+00\n",
            "   0.00000000e+00  0.00000000e+00  0.00000000e+00  0.00000000e+00\n",
            "   0.00000000e+00  1.72413793e-02  1.20689655e-01  0.00000000e+00\n",
            "   1.72413793e-02  1.72413793e-02  3.62068966e-01  4.65517241e-01]\n",
            " [ 8.03508333e+03  1.10106892e+04  6.92057174e+01  9.51864286e+00\n",
            "   1.01190476e-01  5.95238095e-02  2.38095238e-02  5.95238095e-03\n",
            "   1.19047619e-01  0.00000000e+00  5.95238095e-03  5.95238095e-03\n",
            "   5.29761905e-01  2.97619048e-02  5.95238095e-03  1.19047619e-02\n",
            "   5.95238095e-03  1.78571429e-02  1.78571429e-02  4.76190476e-02\n",
            "   1.19047619e-02  1.01190476e-01  2.20238095e-01  1.01190476e-01\n",
            "   0.00000000e+00  2.38095238e-02  5.29761905e-01  2.38095238e-02]\n",
            " [ 1.84202857e+04  6.53681786e+05  7.36392857e+02 -7.81121429e+00\n",
            "   6.42857143e-01  0.00000000e+00  0.00000000e+00  0.00000000e+00\n",
            "   1.42857143e-01  1.42857143e-01  0.00000000e+00  0.00000000e+00\n",
            "   0.00000000e+00  7.14285714e-02  0.00000000e+00  0.00000000e+00\n",
            "   0.00000000e+00  0.00000000e+00  0.00000000e+00  0.00000000e+00\n",
            "   0.00000000e+00  7.14285714e-02  1.42857143e-01  0.00000000e+00\n",
            "   0.00000000e+00  7.14285714e-02  7.14285714e-02  6.42857143e-01]]\n",
            "Etiquetas: [1 1 1 1 1 1 1 1 1 1 1 1 1 1 1 1 1 1 1 1 1 1 1 1 1 1 1 1 1 1 0 1 1 1 1 1 1\n",
            " 1 1 1 0 0 0 0 0 0 1 0 0 0 0 0 0 2 0 0 0 0 0 0 1 1 1 1 1 1 1 1 1 1 1 1 1 1\n",
            " 1 1 1 1 1 1 1 1 1 1 1 1 1 1 1 1 1 1 1 1 1 1 1 1 1 0 0 2 1 0 1 0 0 0 1 0 1\n",
            " 1 0 1 1 1 0 1 0 0 1 1 1 1 1 1 1 1 1 1 1 1 1 1 1 1 1 1 1 1 1 1 1 1 1 1 1 1\n",
            " 1 1 0 1 1 1 1 1 1 1 1 0 0 0 2 0 0 1 0 0 0 2 0 1 2 0 0 1 0 0 1 0 1 1 1 1 1\n",
            " 1 1 1 1 1 1 1 1 1 1 1 1 1 1 1 1 1 1 1 1 1 1 1 1 1 1 1 1 1 0 0 1 1 1 1 0 0\n",
            " 0 2 0 0 2 2 0 2 0 0 2 2 2 0 2 2 0 0]\n",
            "Coeficiente de silueta: 0.7904325590374683\n",
            "Tiempo de ejecución: 0.008064508438110352\n",
            "\n",
            "Resultados de K-Means en scikit-learn:\n",
            "Centroides: [[ 7.98365625e+03  4.77372370e+03  2.85410033e+01  1.04183875e+01\n",
            "   8.75000000e-02  6.25000000e-02  2.50000000e-02  6.25000000e-03\n",
            "   1.25000000e-01  1.38777878e-17  6.25000000e-03  6.25000000e-03\n",
            "   5.25000000e-01  3.12500000e-02  6.25000000e-03  1.25000000e-02\n",
            "   6.25000000e-03  1.87500000e-02  1.87500000e-02  5.00000000e-02\n",
            "   1.25000000e-02  1.06250000e-01  2.31250000e-01  1.06250000e-01\n",
            "   6.93889390e-18  2.50000000e-02  5.25000000e-01  6.25000000e-03]\n",
            " [ 1.96530000e+04  6.89585417e+05  8.50208333e+02 -8.14558333e+00\n",
            "   5.83333333e-01  0.00000000e+00  3.46944695e-18  8.67361738e-19\n",
            "   1.66666667e-01  1.66666667e-01  8.67361738e-19  8.67361738e-19\n",
            "   0.00000000e+00  8.33333333e-02  8.67361738e-19  1.73472348e-18\n",
            "   8.67361738e-19  1.73472348e-18  1.73472348e-18  6.93889390e-18\n",
            "   1.73472348e-18  8.33333333e-02  1.66666667e-01  2.77555756e-17\n",
            "   8.67361738e-19  8.33333333e-02  8.33333333e-02  5.83333333e-01]\n",
            " [ 1.47966176e+04  2.45388029e+05  6.19835397e+02 -7.60911765e+00\n",
            "   5.14705882e-01  2.08166817e-17 -1.38777878e-17 -3.46944695e-18\n",
            "   5.88235294e-02 -6.93889390e-18 -3.46944695e-18 -3.46944695e-18\n",
            "   4.11764706e-01  1.47058824e-02 -3.46944695e-18 -6.93889390e-18\n",
            "  -3.46944695e-18  1.56125113e-17  1.56125113e-17 -2.77555756e-17\n",
            "  -6.93889390e-18  1.47058824e-02  1.02941176e-01 -5.55111512e-17\n",
            "   1.47058824e-02  1.47058824e-02  3.82352941e-01  4.70588235e-01]]\n",
            "Etiquetas: [0 0 0 0 0 0 0 0 0 0 0 0 0 0 0 0 0 0 0 0 0 0 0 0 0 0 0 0 0 0 2 0 0 0 0 0 0\n",
            " 0 0 0 2 2 2 2 2 2 0 2 2 2 2 2 2 1 2 2 2 2 2 2 0 0 0 0 0 0 0 0 0 0 0 0 0 0\n",
            " 0 0 0 0 0 0 0 0 0 0 0 0 0 0 0 0 0 0 0 0 0 0 0 0 0 2 2 1 2 2 0 2 2 2 2 2 0\n",
            " 2 2 0 2 2 2 0 2 2 0 0 0 0 0 0 0 0 0 0 0 0 0 0 0 0 0 0 0 0 0 0 0 0 0 0 0 0\n",
            " 0 0 2 0 0 0 0 0 0 0 0 2 2 2 2 2 2 2 2 2 2 2 2 2 1 2 2 2 2 2 0 2 0 0 0 0 0\n",
            " 0 0 0 0 0 0 0 0 0 0 0 0 0 0 0 0 0 0 0 0 0 0 0 0 0 0 0 0 0 2 2 0 0 0 0 2 2\n",
            " 2 1 2 2 1 1 2 1 2 2 1 1 1 2 1 1 2 2]\n",
            "Coeficiente de silueta: 0.8102645810507881\n",
            "Tiempo de ejecución: 0.18534207344055176\n"
          ]
        }
      ]
    },
    {
      "cell_type": "markdown",
      "source": [
        "**EJERCICIO 2: CODIFICACIÓN DE ONE-HOT ENCODING Y CODIFICACIÓN COMO VARIABLE ORDINAL**"
      ],
      "metadata": {
        "id": "juGNMjD5KgcM"
      }
    },
    {
      "cell_type": "markdown",
      "source": [
        "Resultados del k-means de sklearn con one-hot encoding:"
      ],
      "metadata": {
        "id": "Buh9CYHxPno6"
      }
    },
    {
      "cell_type": "code",
      "source": [
        "start_time_onehot = time.time()\n",
        "kmeans_onehot = KMeans(n_clusters=n_clusters)\n",
        "labels_onehot = kmeans_onehot.fit_predict(data)\n",
        "end_time_onehot = time.time()\n",
        "onehot_time = end_time_onehot - start_time_onehot\n",
        "\n",
        "silhouette_onehot = silhouette_score(data, labels_onehot)\n",
        "\n",
        "print(\"\\nResultados de K-Means usando One-Hot Encoding:\")\n",
        "print(\"Etiquetas:\", labels_onehot)\n",
        "print(\"Coeficiente de silueta:\", silhouette_onehot)\n",
        "print(\"Tiempo de ejecución:\", onehot_time)"
      ],
      "metadata": {
        "colab": {
          "base_uri": "https://localhost:8080/"
        },
        "id": "xgxOoXNcNqo6",
        "outputId": "715feb6e-fb49-4bbb-b2d3-dbdb87ae5f12"
      },
      "execution_count": 17,
      "outputs": [
        {
          "output_type": "stream",
          "name": "stdout",
          "text": [
            "\n",
            "Resultados de K-Means usando One-Hot Encoding:\n",
            "Etiquetas: [0 0 0 0 0 0 0 0 0 0 0 0 0 0 0 0 0 0 0 0 2 0 0 0 2 0 2 0 0 0 1 2 2 0 0 0 0\n",
            " 0 0 0 0 0 0 0 0 0 0 0 0 2 0 0 0 0 0 0 0 0 0 0 0 0 0 0 0 0 0 0 0 0 0 0 0 0\n",
            " 0 0 0 0 0 0 0 0 0 2 2 2 2 2 0 2 0 0 0 0 2 2 0 0 2 1 2 1 1 1 1 1 1 1 1 1 0\n",
            " 0 0 0 0 0 0 0 0 0 0 0 0 0 0 0 0 0 0 0 0 0 0 0 0 0 0 0 0 0 2 2 2 2 2 2 2 0\n",
            " 0 2 2 2 2 2 2 2 2 2 2 1 1 1 1 1 1 1 1 1 1 1 0 0 0 2 0 0 1 2 2 2 0 0 0 0 0\n",
            " 0 0 0 0 0 0 0 0 0 0 0 0 0 0 0 2 2 2 2 2 2 2 2 2 2 2 2 2 2 1 1 2 2 2 0 1 1\n",
            " 1 1 1 1 1 1 1 1 2 1 1 2 2 1 1 0 0 1]\n",
            "Coeficiente de silueta: 0.5925813744664216\n",
            "Tiempo de ejecución: 0.06623458862304688\n"
          ]
        },
        {
          "output_type": "stream",
          "name": "stderr",
          "text": [
            "/usr/local/lib/python3.10/dist-packages/sklearn/cluster/_kmeans.py:870: FutureWarning: The default value of `n_init` will change from 10 to 'auto' in 1.4. Set the value of `n_init` explicitly to suppress the warning\n",
            "  warnings.warn(\n"
          ]
        }
      ]
    },
    {
      "cell_type": "markdown",
      "source": [
        "Resultados del k-means de sklearn codificando como variable ordinal:\n",
        "\n"
      ],
      "metadata": {
        "id": "1AF6g4ysZT7L"
      }
    },
    {
      "cell_type": "code",
      "source": [
        "from sklearn.preprocessing import OrdinalEncoder\n",
        "\n",
        "def load_data(file_path):\n",
        "    data = pd.read_csv(file_path)\n",
        "\n",
        "    # Detectar columnas no numéricas y numéricas\n",
        "    non_numeric_columns = data.select_dtypes(include=['object']).columns\n",
        "    numeric_columns = data.select_dtypes(include=[np.number]).columns\n",
        "\n",
        "    if len(non_numeric_columns) > 0:\n",
        "        # Codificar las columnas no numéricas como variables ordinales\n",
        "        encoder = OrdinalEncoder()\n",
        "        ordinal_encoded_data = encoder.fit_transform(data[non_numeric_columns])\n",
        "        ordinal_encoded_columns = pd.DataFrame(ordinal_encoded_data, columns=non_numeric_columns)\n",
        "\n",
        "    if len(numeric_columns) > 0:\n",
        "        # Escalar las columnas numéricas\n",
        "        scaler = StandardScaler()\n",
        "        scaled_numeric_data = scaler.fit_transform(data[numeric_columns])\n",
        "        scaled_numeric_columns = pd.DataFrame(scaled_numeric_data, columns=numeric_columns)\n",
        "\n",
        "    # Combinar los datos codificados y escalados de nuevo en un solo DataFrame\n",
        "    if len(non_numeric_columns) > 0 and len(numeric_columns) > 0:\n",
        "        data = pd.concat([scaled_numeric_columns, ordinal_encoded_columns], axis=1)\n",
        "    elif len(non_numeric_columns) > 0:\n",
        "        data = ordinal_encoded_columns\n",
        "    elif len(numeric_columns) > 0:\n",
        "        data = scaled_numeric_columns\n",
        "\n",
        "    return data.values\n",
        "\n",
        "data = load_data(\"stars_data.csv\")\n",
        "\n",
        "\n",
        "\n",
        "start_time_ordinal = time.time()\n",
        "kmeans_ordinal = KMeans(n_clusters=n_clusters)\n",
        "labels_ordinal = kmeans_ordinal.fit_predict(data)\n",
        "end_time_ordinal = time.time()\n",
        "ordinal_time = end_time_ordinal - start_time_ordinal\n",
        "\n",
        "silhouette_ordinal = silhouette_score(data, labels_ordinal)\n",
        "\n",
        "print(\"\\nResultados de K-Means usando One-Hot Encoding:\")\n",
        "print(\"Etiquetas:\", labels_ordinal)\n",
        "print(\"Coeficiente de silueta:\", silhouette_ordinal)\n",
        "print(\"Tiempo de ejecución:\", ordinal_time)"
      ],
      "metadata": {
        "id": "Nqnxxu2ZaICZ",
        "outputId": "9ecc5748-2bcc-4921-dc98-1383c5e6b3cc",
        "colab": {
          "base_uri": "https://localhost:8080/"
        }
      },
      "execution_count": 15,
      "outputs": [
        {
          "output_type": "stream",
          "name": "stdout",
          "text": [
            "\n",
            "Resultados de K-Means usando One-Hot Encoding:\n",
            "Etiquetas: [0 0 0 0 0 0 0 0 0 0 0 0 0 0 0 0 0 0 0 0 2 0 0 0 2 0 2 0 0 0 1 2 2 0 0 0 0\n",
            " 0 0 0 0 0 0 0 0 0 0 0 0 2 0 0 0 0 0 0 0 0 0 0 0 0 0 0 0 0 0 0 0 0 0 0 0 0\n",
            " 0 0 0 0 0 0 0 0 0 2 2 2 2 2 0 2 0 0 0 0 2 2 0 0 2 1 2 1 1 1 1 1 1 1 1 1 0\n",
            " 0 0 0 0 0 0 0 0 0 0 0 0 0 0 0 0 0 0 0 0 0 0 0 0 0 0 0 0 0 2 2 2 2 2 2 2 0\n",
            " 0 2 2 2 2 2 2 2 2 2 2 1 1 1 1 1 1 1 1 1 1 1 0 0 0 2 0 0 1 2 2 2 0 0 0 0 0\n",
            " 0 0 0 0 0 0 0 0 0 0 0 0 0 0 0 2 2 2 2 2 2 2 2 2 2 2 2 2 2 1 1 2 2 2 0 1 1\n",
            " 1 1 1 1 1 1 1 1 2 1 1 2 2 1 1 0 0 1]\n",
            "Coeficiente de silueta: 0.5925813744664216\n",
            "Tiempo de ejecución: 0.01399850845336914\n"
          ]
        },
        {
          "output_type": "stream",
          "name": "stderr",
          "text": [
            "/usr/local/lib/python3.10/dist-packages/sklearn/cluster/_kmeans.py:870: FutureWarning: The default value of `n_init` will change from 10 to 'auto' in 1.4. Set the value of `n_init` explicitly to suppress the warning\n",
            "  warnings.warn(\n"
          ]
        }
      ]
    },
    {
      "cell_type": "markdown",
      "source": [
        "Como se puede ver, el tiempo de ejecución usando el cifrado con OrdinalEncoder es menor que si usamos One-Hot Encoding."
      ],
      "metadata": {
        "id": "sJ-D5gUvdtPt"
      }
    }
  ]
}