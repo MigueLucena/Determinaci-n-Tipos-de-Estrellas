{
  "nbformat": 4,
  "nbformat_minor": 0,
  "metadata": {
    "colab": {
      "provenance": [],
      "authorship_tag": "ABX9TyNHa2S8ynaExDqu94L3H7wl",
      "include_colab_link": true
    },
    "kernelspec": {
      "name": "python3",
      "display_name": "Python 3"
    },
    "language_info": {
      "name": "python"
    }
  },
  "cells": [
    {
      "cell_type": "markdown",
      "metadata": {
        "id": "view-in-github",
        "colab_type": "text"
      },
      "source": [
        "<a href=\"https://colab.research.google.com/github/MigueLucena/Determinacion-Tipos-de-Estrellas/blob/main/Practica2NT1.ipynb\" target=\"_parent\"><img src=\"https://colab.research.google.com/assets/colab-badge.svg\" alt=\"Open In Colab\"/></a>"
      ]
    },
    {
      "cell_type": "markdown",
      "source": [
        "#**PABLO PÉREZ GARCÍA (100472243) MIGUEL LUCENA BELMONTE (100472277)**"
      ],
      "metadata": {
        "id": "fXglGTTLe8Vn"
      }
    },
    {
      "cell_type": "markdown",
      "source": [
        "**EJERCICIO 1: PROGRAMACIÓN DE K-MEANS Y COMPARACIÓN CON LA IMPLEMENTACIÓN DE SKLEARN**"
      ],
      "metadata": {
        "id": "5bmmpc67fRRw"
      }
    },
    {
      "cell_type": "markdown",
      "source": [
        "*Usando el scaler StandardScaler:*"
      ],
      "metadata": {
        "id": "VGEr6ctiNeTT"
      }
    },
    {
      "cell_type": "code",
      "source": [
        "import pandas as pd\n",
        "import numpy as np\n",
        "from sklearn.preprocessing import OneHotEncoder, StandardScaler\n",
        "\n",
        "def load_data(file_path):\n",
        "    data = pd.read_csv(file_path)\n",
        "\n",
        "    # Detectar columnas no numéricas y numéricas\n",
        "    non_numeric_columns = data.select_dtypes(include=['object']).columns\n",
        "    numeric_columns = data.select_dtypes(include=[np.number]).columns\n",
        "\n",
        "    if len(non_numeric_columns) > 0:\n",
        "        # Aplicar codificación one-hot a las columnas no numéricas\n",
        "        encoder = OneHotEncoder(sparse=False)\n",
        "        non_numeric_data = encoder.fit_transform(data[non_numeric_columns])\n",
        "        encoded_columns = pd.DataFrame(non_numeric_data, columns=encoder.get_feature_names_out(non_numeric_columns))\n",
        "\n",
        "    if len(numeric_columns) > 0:\n",
        "        # Escalar las columnas numéricas\n",
        "        scaler = StandardScaler()\n",
        "        scaled_numeric_data = scaler.fit_transform(data[numeric_columns])\n",
        "        scaled_numeric_columns = pd.DataFrame(scaled_numeric_data, columns=numeric_columns)\n",
        "\n",
        "    # Combinar los datos codificados y escalados de nuevo en un solo DataFrame\n",
        "    if len(non_numeric_columns) > 0 and len(numeric_columns) > 0:\n",
        "        data = pd.concat([scaled_numeric_columns, encoded_columns], axis=1)\n",
        "    elif len(non_numeric_columns) > 0:\n",
        "        data = encoded_columns\n",
        "    elif len(numeric_columns) > 0:\n",
        "        data = scaled_numeric_columns\n",
        "\n",
        "    return data.values\n",
        "\n",
        "# Ejemplo de cómo utilizar la función\n",
        "data = load_data(\"stars_data.csv\")\n"
      ],
      "metadata": {
        "id": "ViU5V47wf3Lj",
        "colab": {
          "base_uri": "https://localhost:8080/"
        },
        "outputId": "9c2e9736-399f-4e56-abcd-6a48a0333376"
      },
      "execution_count": 5,
      "outputs": [
        {
          "output_type": "stream",
          "name": "stderr",
          "text": [
            "/usr/local/lib/python3.10/dist-packages/sklearn/preprocessing/_encoders.py:868: FutureWarning: `sparse` was renamed to `sparse_output` in version 1.2 and will be removed in 1.4. `sparse_output` is ignored unless you leave `sparse` to its default value.\n",
            "  warnings.warn(\n"
          ]
        }
      ]
    },
    {
      "cell_type": "code",
      "source": [
        "\n",
        "from sklearn.cluster import KMeans\n",
        "from sklearn.metrics import silhouette_score\n",
        "import time\n",
        "\n",
        "def kmeans_programada(data, n_clusters, max_iters=300):\n",
        "  #Se inicializan los centroides aleatoriamente\n",
        "  centroids = data[np.random.choice(data.shape[0], n_clusters, replace = False)]\n",
        "\n",
        "  for _ in range(max_iters):\n",
        "        # Asignamos cada punto al centroide más cercano\n",
        "        labels = np.argmin(np.linalg.norm(data[:, np.newaxis] - centroids, axis=2), axis=1)\n",
        "\n",
        "        # Actualizamos los centroides como la media de los puntos asignados a ellos\n",
        "        new_centroids = np.array([data[labels == i].mean(axis=0) for i in range(n_clusters)])\n",
        "\n",
        "        # Si los centroides no cambian, salimos del bucle\n",
        "        if np.all(centroids == new_centroids):\n",
        "            break\n",
        "\n",
        "        centroids = new_centroids\n",
        "\n",
        "        return centroids, labels\n",
        "\n",
        "\n",
        "#Especificamos el número de clusters con el que se va a trabajar\n",
        "n_clusters = 3\n",
        "\n",
        "# Medimos el tiempo de ejecución y comparar con la implementación de scikit-learn\n",
        "start_time_custom = time.time()\n",
        "centroids_custom, labels_custom = kmeans_programada(data, n_clusters)\n",
        "end_time_custom = time.time()\n",
        "custom_time = end_time_custom - start_time_custom\n",
        "\n",
        "start_time_sklearn = time.time()\n",
        "kmeans_sklearn = KMeans(n_clusters=n_clusters)\n",
        "labels_sklearn = kmeans_sklearn.fit_predict(data)\n",
        "end_time_sklearn = time.time()\n",
        "sklearn_time = end_time_sklearn - start_time_sklearn\n",
        "\n",
        "# Calculamos el coeficiente de silueta para ambas implementaciones\n",
        "silhouette_custom = silhouette_score(data, labels_custom)\n",
        "silhouette_sklearn = silhouette_score(data, labels_sklearn)\n",
        "\n",
        "print(\"Resultados de K-Means personalizado:\")\n",
        "print(\"Centroides:\", centroids_custom)\n",
        "print(\"Etiquetas:\", labels_custom)\n",
        "print(\"Coeficiente de silueta:\", silhouette_custom)\n",
        "print(\"Tiempo de ejecución:\", custom_time)\n",
        "\n",
        "print(\"\\nResultados de K-Means en scikit-learn:\")\n",
        "print(\"Centroides:\", kmeans_sklearn.cluster_centers_)\n",
        "print(\"Etiquetas:\", labels_sklearn)\n",
        "print(\"Coeficiente de silueta:\", silhouette_sklearn)\n",
        "print(\"Tiempo de ejecución:\", sklearn_time)\n",
        "\n"
      ],
      "metadata": {
        "colab": {
          "base_uri": "https://localhost:8080/"
        },
        "id": "AVclPoAdhIfN",
        "outputId": "d2ba9dd6-487a-4f0e-d321-26657b832604"
      },
      "execution_count": 9,
      "outputs": [
        {
          "output_type": "stream",
          "name": "stdout",
          "text": [
            "Resultados de K-Means personalizado:\n",
            "Centroides: [[ 0.26528344  1.57712908 -0.11780677 -1.01675716  0.61111111  5.11111111]\n",
            " [-0.5133851  -0.27927195  0.0171943   0.2027792   8.24074074  3.87654321]\n",
            " [ 1.30655474  0.28089555 -0.01108258 -0.24247668  0.63333333  3.03333333]]\n",
            "Etiquetas: [1 1 1 1 1 1 1 1 1 1 1 1 1 1 1 1 1 1 1 1 2 1 1 1 2 1 2 1 1 1 2 2 1 1 1 1 1\n",
            " 1 1 1 1 1 1 1 1 1 1 1 1 2 1 1 1 1 1 1 1 1 1 1 1 1 1 1 1 1 1 1 1 1 1 1 1 1\n",
            " 1 1 1 1 1 1 1 1 1 2 2 2 2 2 1 2 1 1 1 1 1 1 1 1 1 2 2 2 2 2 0 0 2 0 2 2 1\n",
            " 1 1 1 1 1 1 1 1 1 1 1 1 1 1 1 1 1 1 1 1 1 1 1 1 1 1 1 1 1 2 2 2 2 2 2 2 1\n",
            " 1 2 2 0 1 1 1 2 1 1 1 2 2 0 0 0 0 0 2 2 0 0 1 1 1 2 1 1 2 1 1 2 1 1 1 1 1\n",
            " 1 1 1 1 1 1 1 1 1 1 1 1 1 1 1 2 2 2 2 2 2 2 2 2 2 1 1 1 1 2 2 1 1 1 1 2 0\n",
            " 0 2 2 2 0 0 2 0 2 2 2 0 0 2 2 1 1 2]\n",
            "Coeficiente de silueta: 0.3879739458309615\n",
            "Tiempo de ejecución: 0.0006787776947021484\n",
            "\n",
            "Resultados de K-Means en scikit-learn:\n",
            "Centroides: [[-6.54537254e-01 -2.50979101e-01  4.54956159e-02  3.17902725e-01\n",
            "   8.80419580e+00  4.31468531e+00]\n",
            " [ 7.73653362e-01 -2.45794609e-01 -1.42199875e-01 -6.45426264e-02\n",
            "   2.19298246e+00  7.89473684e-01]\n",
            " [ 1.23751464e+00  1.24750760e+00  3.99879948e-02 -1.04452900e+00\n",
            "  -6.21724894e-15  6.00000000e+00]]\n",
            "Etiquetas: [0 0 0 0 0 0 0 0 0 0 0 0 0 0 0 0 0 0 0 0 1 0 0 0 1 0 1 0 0 0 2 1 1 0 0 0 0\n",
            " 0 0 0 0 0 0 0 0 0 0 0 0 1 0 0 0 0 0 0 0 0 0 0 0 0 0 0 0 0 0 0 0 0 0 0 0 0\n",
            " 0 0 0 0 0 0 0 0 0 1 1 1 1 1 0 1 0 0 0 0 1 1 0 0 1 2 1 2 2 2 2 2 2 2 2 2 0\n",
            " 0 0 0 0 0 0 0 0 0 0 0 0 0 0 0 0 0 0 0 0 0 0 0 0 0 0 0 0 0 1 1 1 1 1 1 1 0\n",
            " 0 1 1 1 1 1 1 1 1 1 1 2 2 2 2 2 2 2 2 2 2 2 0 0 0 1 0 0 2 1 1 1 0 0 0 0 0\n",
            " 0 0 0 0 0 0 0 0 0 0 0 0 0 0 0 1 1 1 1 1 1 1 1 1 1 1 1 1 1 2 2 1 1 1 0 2 2\n",
            " 2 2 2 2 2 2 2 2 1 2 2 1 1 2 2 0 0 2]\n",
            "Coeficiente de silueta: 0.5925813744664216\n",
            "Tiempo de ejecución: 0.011473894119262695\n"
          ]
        },
        {
          "output_type": "stream",
          "name": "stderr",
          "text": [
            "/usr/local/lib/python3.10/dist-packages/sklearn/cluster/_kmeans.py:870: FutureWarning: The default value of `n_init` will change from 10 to 'auto' in 1.4. Set the value of `n_init` explicitly to suppress the warning\n",
            "  warnings.warn(\n"
          ]
        }
      ]
    },
    {
      "cell_type": "markdown",
      "source": [
        "*Sin usar ningún scaler:*"
      ],
      "metadata": {
        "id": "MffLgmDgNkwm"
      }
    },
    {
      "cell_type": "code",
      "source": [
        "import pandas as pd\n",
        "from sklearn.preprocessing import OneHotEncoder\n",
        "\n",
        "def load_data(file_path):\n",
        "    data = pd.read_csv(file_path)\n",
        "\n",
        "    # Detectar columnas no numéricas y aplicar codificación one-hot\n",
        "    non_numeric_columns = data.select_dtypes(include=['object']).columns\n",
        "    if len(non_numeric_columns) > 0:\n",
        "        encoder = OneHotEncoder(sparse=False)\n",
        "        non_numeric_data = encoder.fit_transform(data[non_numeric_columns])\n",
        "\n",
        "        # Eliminar las columnas originales no numéricas\n",
        "        data = data.drop(non_numeric_columns, axis=1)\n",
        "\n",
        "        # Añadir los datos codificados al DataFrame original\n",
        "        encoded_columns = pd.DataFrame(non_numeric_data, columns=encoder.get_feature_names_out(non_numeric_columns))\n",
        "        data = pd.concat([data, encoded_columns], axis=1)\n",
        "\n",
        "    return data.values\n",
        "\n",
        "# Ejemplo de cómo utilizar la función\n",
        "data = load_data(\"stars_data.csv\")\n"
      ],
      "metadata": {
        "colab": {
          "base_uri": "https://localhost:8080/"
        },
        "id": "Xg2tjNhINr0b",
        "outputId": "4d05d95d-d0b9-4f45-c5c6-c9eec1b460a8"
      },
      "execution_count": 10,
      "outputs": [
        {
          "output_type": "stream",
          "name": "stderr",
          "text": [
            "/usr/local/lib/python3.10/dist-packages/sklearn/preprocessing/_encoders.py:868: FutureWarning: `sparse` was renamed to `sparse_output` in version 1.2 and will be removed in 1.4. `sparse_output` is ignored unless you leave `sparse` to its default value.\n",
            "  warnings.warn(\n"
          ]
        }
      ]
    },
    {
      "cell_type": "code",
      "source": [
        "\n",
        "# Medimos el tiempo de ejecución y comparar con la implementación de scikit-learn\n",
        "start_time_custom = time.time()\n",
        "centroids_custom, labels_custom = kmeans_programada(data, n_clusters)\n",
        "end_time_custom = time.time()\n",
        "custom_time = end_time_custom - start_time_custom\n",
        "\n",
        "start_time_sklearn = time.time()\n",
        "kmeans_sklearn = KMeans(n_clusters=n_clusters)\n",
        "labels_sklearn = kmeans_sklearn.fit_predict(data)\n",
        "end_time_sklearn = time.time()\n",
        "sklearn_time = end_time_sklearn - start_time_sklearn\n",
        "\n",
        "# Calculamos el coeficiente de silueta para ambas implementaciones\n",
        "silhouette_custom = silhouette_score(data, labels_custom)\n",
        "silhouette_sklearn = silhouette_score(data, labels_sklearn)\n",
        "\n",
        "print(\"Resultados de K-Means personalizado:\")\n",
        "print(\"Centroides:\", centroids_custom)\n",
        "print(\"Etiquetas:\", labels_custom)\n",
        "print(\"Coeficiente de silueta:\", silhouette_custom)\n",
        "print(\"Tiempo de ejecución:\", custom_time)\n",
        "\n",
        "print(\"\\nResultados de K-Means en scikit-learn:\")\n",
        "print(\"Centroides:\", kmeans_sklearn.cluster_centers_)\n",
        "print(\"Etiquetas:\", labels_sklearn)\n",
        "print(\"Coeficiente de silueta:\", silhouette_sklearn)\n",
        "print(\"Tiempo de ejecución:\", sklearn_time)\n",
        "\n"
      ],
      "metadata": {
        "colab": {
          "base_uri": "https://localhost:8080/"
        },
        "id": "GKJpOt79OHmD",
        "outputId": "b164ab5f-38fd-473f-cac3-ceb57fd8dd80"
      },
      "execution_count": 11,
      "outputs": [
        {
          "output_type": "stream",
          "name": "stdout",
          "text": [
            "Resultados de K-Means personalizado:\n",
            "Centroides: [[ 8.26085714e+03  3.65073276e+01  1.09818143e+00  8.05852381e+00\n",
            "   0.00000000e+00  4.76190476e-02  9.52380952e-02  4.76190476e-02\n",
            "   1.42857143e-01  0.00000000e+00  0.00000000e+00  4.76190476e-02\n",
            "   0.00000000e+00  1.90476190e-01  4.76190476e-02  9.52380952e-02\n",
            "   0.00000000e+00  4.76190476e-02  4.76190476e-02  1.90476190e-01\n",
            "   0.00000000e+00  5.71428571e-01  4.76190476e-02  3.80952381e-01\n",
            "   0.00000000e+00  0.00000000e+00  0.00000000e+00  0.00000000e+00]\n",
            " [ 3.32487500e+03  5.73291023e-02  2.94300000e-01  1.41632159e+01\n",
            "   0.00000000e+00  0.00000000e+00  0.00000000e+00  0.00000000e+00\n",
            "   0.00000000e+00  0.00000000e+00  1.13636364e-02  0.00000000e+00\n",
            "   9.09090909e-01  0.00000000e+00  0.00000000e+00  0.00000000e+00\n",
            "   1.13636364e-02  0.00000000e+00  0.00000000e+00  4.54545455e-02\n",
            "   2.27272727e-02  0.00000000e+00  0.00000000e+00  4.54545455e-02\n",
            "   0.00000000e+00  4.54545455e-02  9.09090909e-01  0.00000000e+00]\n",
            " [ 1.56742290e+04  1.96369734e+05  4.34113796e+02 -2.77722901e+00\n",
            "   4.27480916e-01  6.87022901e-02  1.52671756e-02  0.00000000e+00\n",
            "   1.75572519e-01  1.52671756e-02  0.00000000e+00  0.00000000e+00\n",
            "   2.44274809e-01  2.29007634e-02  0.00000000e+00  0.00000000e+00\n",
            "   0.00000000e+00  1.52671756e-02  1.52671756e-02  0.00000000e+00\n",
            "   0.00000000e+00  5.34351145e-02  3.43511450e-01  3.81679389e-02\n",
            "   7.63358779e-03  1.52671756e-02  2.36641221e-01  3.05343511e-01]]\n",
            "Etiquetas: [1 1 1 1 1 1 1 1 1 1 1 1 1 1 1 1 1 1 1 1 2 0 0 0 2 2 0 0 2 0 2 2 2 0 1 0 0\n",
            " 0 1 1 2 2 2 2 2 2 2 2 2 2 2 2 2 2 2 2 2 2 2 2 1 1 1 1 1 1 1 1 1 1 1 1 1 1\n",
            " 1 1 1 1 1 1 0 2 0 2 2 0 2 2 2 2 1 1 1 1 0 2 1 0 2 2 2 2 2 2 2 2 2 2 2 2 2\n",
            " 2 2 2 2 2 2 2 2 2 1 1 1 1 1 1 1 1 1 1 1 1 1 1 1 1 1 1 1 1 2 2 2 2 2 0 2 2\n",
            " 0 2 2 0 2 2 2 2 2 2 2 2 2 2 2 2 2 2 2 2 2 2 2 2 2 2 2 2 2 2 2 2 1 1 1 1 1\n",
            " 1 1 1 1 1 1 1 1 1 1 1 1 1 1 1 2 2 2 2 2 2 2 2 2 2 2 0 2 2 2 2 0 2 2 0 2 2\n",
            " 2 2 2 2 2 2 2 2 2 2 2 2 2 2 2 2 2 2]\n",
            "Coeficiente de silueta: 0.26691439099258335\n",
            "Tiempo de ejecución: 0.0019180774688720703\n",
            "\n",
            "Resultados de K-Means en scikit-learn:\n",
            "Centroides: [[ 1.47966176e+04  2.45388029e+05  6.19835397e+02 -7.60911765e+00\n",
            "   5.14705882e-01  2.08166817e-17 -1.38777878e-17 -3.46944695e-18\n",
            "   5.88235294e-02 -6.93889390e-18 -3.46944695e-18 -3.46944695e-18\n",
            "   4.11764706e-01  1.47058824e-02 -3.46944695e-18 -6.93889390e-18\n",
            "  -3.46944695e-18  1.56125113e-17  1.56125113e-17 -2.77555756e-17\n",
            "  -6.93889390e-18  1.47058824e-02  1.02941176e-01 -5.55111512e-17\n",
            "   1.47058824e-02  1.47058824e-02  3.82352941e-01  4.70588235e-01]\n",
            " [ 1.96530000e+04  6.89585417e+05  8.50208333e+02 -8.14558333e+00\n",
            "   5.83333333e-01  0.00000000e+00  3.46944695e-18  8.67361738e-19\n",
            "   1.66666667e-01  1.66666667e-01  8.67361738e-19  8.67361738e-19\n",
            "   0.00000000e+00  8.33333333e-02  8.67361738e-19  1.73472348e-18\n",
            "   8.67361738e-19  1.73472348e-18  1.73472348e-18  6.93889390e-18\n",
            "   1.73472348e-18  8.33333333e-02  1.66666667e-01  2.77555756e-17\n",
            "   8.67361738e-19  8.33333333e-02  8.33333333e-02  5.83333333e-01]\n",
            " [ 7.98365625e+03  4.77372370e+03  2.85410033e+01  1.04183875e+01\n",
            "   8.75000000e-02  6.25000000e-02  2.50000000e-02  6.25000000e-03\n",
            "   1.25000000e-01  1.38777878e-17  6.25000000e-03  6.25000000e-03\n",
            "   5.25000000e-01  3.12500000e-02  6.25000000e-03  1.25000000e-02\n",
            "   6.25000000e-03  1.87500000e-02  1.87500000e-02  5.00000000e-02\n",
            "   1.25000000e-02  1.06250000e-01  2.31250000e-01  1.06250000e-01\n",
            "   6.93889390e-18  2.50000000e-02  5.25000000e-01  6.25000000e-03]]\n",
            "Etiquetas: [2 2 2 2 2 2 2 2 2 2 2 2 2 2 2 2 2 2 2 2 2 2 2 2 2 2 2 2 2 2 0 2 2 2 2 2 2\n",
            " 2 2 2 0 0 0 0 0 0 2 0 0 0 0 0 0 1 0 0 0 0 0 0 2 2 2 2 2 2 2 2 2 2 2 2 2 2\n",
            " 2 2 2 2 2 2 2 2 2 2 2 2 2 2 2 2 2 2 2 2 2 2 2 2 2 0 0 1 0 0 2 0 0 0 0 0 2\n",
            " 0 0 2 0 0 0 2 0 0 2 2 2 2 2 2 2 2 2 2 2 2 2 2 2 2 2 2 2 2 2 2 2 2 2 2 2 2\n",
            " 2 2 0 2 2 2 2 2 2 2 2 0 0 0 0 0 0 0 0 0 0 0 0 0 1 0 0 0 0 0 2 0 2 2 2 2 2\n",
            " 2 2 2 2 2 2 2 2 2 2 2 2 2 2 2 2 2 2 2 2 2 2 2 2 2 2 2 2 2 0 0 2 2 2 2 0 0\n",
            " 0 1 0 0 1 1 0 1 0 0 1 1 1 0 1 1 0 0]\n",
            "Coeficiente de silueta: 0.8102645810507881\n",
            "Tiempo de ejecución: 0.023806333541870117\n"
          ]
        },
        {
          "output_type": "stream",
          "name": "stderr",
          "text": [
            "/usr/local/lib/python3.10/dist-packages/sklearn/cluster/_kmeans.py:870: FutureWarning: The default value of `n_init` will change from 10 to 'auto' in 1.4. Set the value of `n_init` explicitly to suppress the warning\n",
            "  warnings.warn(\n"
          ]
        }
      ]
    },
    {
      "cell_type": "markdown",
      "source": [
        "**EJERCICIO 2: CODIFICACIÓN DE ONE-HOT ENCODING Y CODIFICACIÓN COMO VARIABLE ORDINAL**"
      ],
      "metadata": {
        "id": "juGNMjD5KgcM"
      }
    },
    {
      "cell_type": "markdown",
      "source": [
        "Resultados del k-means de sklearn con one-hot encoding:"
      ],
      "metadata": {
        "id": "Buh9CYHxPno6"
      }
    },
    {
      "cell_type": "code",
      "source": [
        "start_time_onehot = time.time()\n",
        "kmeans_onehot = KMeans(n_clusters=n_clusters)\n",
        "labels_onehot = kmeans_onehot.fit_predict(data)\n",
        "end_time_onehot = time.time()\n",
        "onehot_time = end_time_onehot - start_time_onehot\n",
        "\n",
        "silhouette_onehot = silhouette_score(data, labels_onehot)\n",
        "\n",
        "print(\"\\nResultados de K-Means usando One-Hot Encoding:\")\n",
        "print(\"Etiquetas:\", labels_onehot)\n",
        "print(\"Coeficiente de silueta:\", silhouette_onehot)\n",
        "print(\"Tiempo de ejecución:\", onehot_time)"
      ],
      "metadata": {
        "colab": {
          "base_uri": "https://localhost:8080/"
        },
        "id": "xgxOoXNcNqo6",
        "outputId": "1945f251-ed4e-4db4-cc81-80daf3f7ff0b"
      },
      "execution_count": 12,
      "outputs": [
        {
          "output_type": "stream",
          "name": "stdout",
          "text": [
            "\n",
            "Resultados de K-Means usando One-Hot Encoding:\n",
            "Etiquetas: [0 0 0 0 0 0 0 0 0 0 0 0 0 0 0 0 0 0 0 0 0 0 0 0 0 0 0 0 0 0 2 0 0 0 0 0 0\n",
            " 0 0 0 2 2 2 2 2 2 0 2 2 2 2 2 2 1 2 2 2 2 2 2 0 0 0 0 0 0 0 0 0 0 0 0 0 0\n",
            " 0 0 0 0 0 0 0 0 0 0 0 0 0 0 0 0 0 0 0 0 0 0 0 0 0 2 2 1 2 2 0 2 2 2 2 2 0\n",
            " 2 2 0 2 2 2 0 2 2 0 0 0 0 0 0 0 0 0 0 0 0 0 0 0 0 0 0 0 0 0 0 0 0 0 0 0 0\n",
            " 0 0 2 0 0 0 0 0 0 0 0 2 2 2 2 2 2 2 2 2 2 2 2 2 1 2 2 2 2 2 0 2 0 0 0 0 0\n",
            " 0 0 0 0 0 0 0 0 0 0 0 0 0 0 0 0 0 0 0 0 0 0 0 0 0 0 0 0 0 2 2 0 0 0 0 2 2\n",
            " 2 1 2 2 1 1 2 1 2 2 1 1 1 2 1 1 2 2]\n",
            "Coeficiente de silueta: 0.8102645810507881\n",
            "Tiempo de ejecución: 0.11976456642150879\n"
          ]
        },
        {
          "output_type": "stream",
          "name": "stderr",
          "text": [
            "/usr/local/lib/python3.10/dist-packages/sklearn/cluster/_kmeans.py:870: FutureWarning: The default value of `n_init` will change from 10 to 'auto' in 1.4. Set the value of `n_init` explicitly to suppress the warning\n",
            "  warnings.warn(\n"
          ]
        }
      ]
    },
    {
      "cell_type": "markdown",
      "source": [
        "Resultados del k-means de sklearn codificando como variable ordinal:\n",
        "\n"
      ],
      "metadata": {
        "id": "1AF6g4ysZT7L"
      }
    },
    {
      "cell_type": "code",
      "source": [
        "from sklearn.preprocessing import OrdinalEncoder\n",
        "\n",
        "def load_data(file_path):\n",
        "    data = pd.read_csv(file_path)\n",
        "\n",
        "    # Detectar columnas no numéricas y numéricas\n",
        "    non_numeric_columns = data.select_dtypes(include=['object']).columns\n",
        "    numeric_columns = data.select_dtypes(include=[np.number]).columns\n",
        "\n",
        "    if len(non_numeric_columns) > 0:\n",
        "        # Codificar las columnas no numéricas como variables ordinales\n",
        "        encoder = OrdinalEncoder()\n",
        "        ordinal_encoded_data = encoder.fit_transform(data[non_numeric_columns])\n",
        "        ordinal_encoded_columns = pd.DataFrame(ordinal_encoded_data, columns=non_numeric_columns)\n",
        "\n",
        "    if len(numeric_columns) > 0:\n",
        "        # Escalar las columnas numéricas\n",
        "        scaler = StandardScaler()\n",
        "        scaled_numeric_data = scaler.fit_transform(data[numeric_columns])\n",
        "        scaled_numeric_columns = pd.DataFrame(scaled_numeric_data, columns=numeric_columns)\n",
        "\n",
        "    # Combinar los datos codificados y escalados de nuevo en un solo DataFrame\n",
        "    if len(non_numeric_columns) > 0 and len(numeric_columns) > 0:\n",
        "        data = pd.concat([scaled_numeric_columns, ordinal_encoded_columns], axis=1)\n",
        "    elif len(non_numeric_columns) > 0:\n",
        "        data = ordinal_encoded_columns\n",
        "    elif len(numeric_columns) > 0:\n",
        "        data = scaled_numeric_columns\n",
        "\n",
        "    return data.values\n",
        "\n",
        "data = load_data(\"stars_data.csv\")\n",
        "\n",
        "\n",
        "\n",
        "start_time_ordinal = time.time()\n",
        "kmeans_ordinal = KMeans(n_clusters=n_clusters)\n",
        "labels_ordinal = kmeans_ordinal.fit_predict(data)\n",
        "end_time_ordinal = time.time()\n",
        "ordinal_time = end_time_ordinal - start_time_ordinal\n",
        "\n",
        "silhouette_ordinal = silhouette_score(data, labels_ordinal)\n",
        "\n",
        "print(\"\\nResultados de K-Means usando One-Hot Encoding:\")\n",
        "print(\"Etiquetas:\", labels_ordinal)\n",
        "print(\"Coeficiente de silueta:\", silhouette_ordinal)\n",
        "print(\"Tiempo de ejecución:\", ordinal_time)"
      ],
      "metadata": {
        "colab": {
          "base_uri": "https://localhost:8080/"
        },
        "id": "Nqnxxu2ZaICZ",
        "outputId": "17457af2-2d36-4e02-e1c3-e87ea94e10e4"
      },
      "execution_count": 13,
      "outputs": [
        {
          "output_type": "stream",
          "name": "stdout",
          "text": [
            "\n",
            "Resultados de K-Means usando One-Hot Encoding:\n",
            "Etiquetas: [1 1 1 1 1 1 1 1 1 1 1 1 1 1 1 1 1 1 1 1 2 1 1 1 2 1 2 1 1 1 0 2 2 1 1 1 1\n",
            " 1 1 1 1 1 1 1 1 1 1 1 1 2 1 1 1 1 1 1 1 1 1 1 1 1 1 1 1 1 1 1 1 1 1 1 1 1\n",
            " 1 1 1 1 1 1 1 1 1 2 2 2 2 2 1 2 1 1 1 1 2 2 1 1 2 0 2 0 0 0 0 0 0 0 0 0 1\n",
            " 1 1 1 1 1 1 1 1 1 1 1 1 1 1 1 1 1 1 1 1 1 1 1 1 1 1 1 1 1 2 2 2 2 2 2 2 1\n",
            " 1 2 2 2 2 2 2 2 2 2 2 0 0 0 0 0 0 0 0 0 0 0 1 1 1 2 1 1 0 2 2 2 1 1 1 1 1\n",
            " 1 1 1 1 1 1 1 1 1 1 1 1 1 1 1 2 2 2 2 2 2 2 2 2 2 2 2 2 2 0 0 2 2 2 1 0 0\n",
            " 0 0 0 0 0 0 0 0 2 0 0 2 2 0 0 1 1 0]\n",
            "Coeficiente de silueta: 0.5925813744664216\n",
            "Tiempo de ejecución: 0.011485576629638672\n"
          ]
        },
        {
          "output_type": "stream",
          "name": "stderr",
          "text": [
            "/usr/local/lib/python3.10/dist-packages/sklearn/cluster/_kmeans.py:870: FutureWarning: The default value of `n_init` will change from 10 to 'auto' in 1.4. Set the value of `n_init` explicitly to suppress the warning\n",
            "  warnings.warn(\n"
          ]
        }
      ]
    },
    {
      "cell_type": "markdown",
      "source": [
        "Como se puede ver, el tiempo de ejecución usando el cifrado con OrdinalEncoder es menor que si usamos One-Hot Encoding, sin embargo, al realizar el cifrado de las variables categóricas con One-Hot Encoding se obtiene mayor coeficiente de silueta, lo que nos indica que es más preciso."
      ],
      "metadata": {
        "id": "sJ-D5gUvdtPt"
      }
    },
    {
      "cell_type": "markdown",
      "source": [
        "**EJERCICIO 3: APLICACIÓN DE ALGORITMOS DE CLUSTERING**"
      ],
      "metadata": {
        "id": "Avfy79lOfRMn"
      }
    },
    {
      "cell_type": "markdown",
      "source": [
        "*Carga de datos aplicando One-Hot Encoding:*\n",
        "\n"
      ],
      "metadata": {
        "id": "ENEd90EPfbFE"
      }
    },
    {
      "cell_type": "code",
      "source": [
        "\n",
        "def load_data_onehot(file_path):\n",
        "    data = pd.read_csv(file_path)\n",
        "\n",
        "    # Detectar columnas no numéricas y numéricas\n",
        "    non_numeric_columns = data.select_dtypes(include=['object']).columns\n",
        "    numeric_columns = data.select_dtypes(include=[np.number]).columns\n",
        "\n",
        "    if len(non_numeric_columns) > 0:\n",
        "        # Aplicar codificación one-hot a las columnas no numéricas\n",
        "        encoder = OneHotEncoder(sparse=False)\n",
        "        non_numeric_data = encoder.fit_transform(data[non_numeric_columns])\n",
        "        encoded_columns = pd.DataFrame(non_numeric_data, columns=encoder.get_feature_names_out(non_numeric_columns))\n",
        "\n",
        "    if len(numeric_columns) > 0:\n",
        "        # Escalar las columnas numéricas\n",
        "        scaler = StandardScaler()\n",
        "        scaled_numeric_data = scaler.fit_transform(data[numeric_columns])\n",
        "        scaled_numeric_columns = pd.DataFrame(scaled_numeric_data, columns=numeric_columns)\n",
        "\n",
        "    # Combinar los datos codificados y escalados de nuevo en un solo DataFrame\n",
        "    if len(non_numeric_columns) > 0 and len(numeric_columns) > 0:\n",
        "        data = pd.concat([scaled_numeric_columns, encoded_columns], axis=1)\n",
        "    elif len(non_numeric_columns) > 0:\n",
        "        data = encoded_columns\n",
        "    elif len(numeric_columns) > 0:\n",
        "        data = scaled_numeric_columns\n",
        "\n",
        "    return data.values\n",
        "\n",
        "# Ejemplo de cómo utilizar la función\n",
        "data_onehot = load_data_onehot(\"stars_data.csv\")"
      ],
      "metadata": {
        "colab": {
          "base_uri": "https://localhost:8080/"
        },
        "id": "vBtPl8DPfaRG",
        "outputId": "7d403ca9-4bff-49e8-96b9-c58a2be4228b"
      },
      "execution_count": 14,
      "outputs": [
        {
          "output_type": "stream",
          "name": "stderr",
          "text": [
            "/usr/local/lib/python3.10/dist-packages/sklearn/preprocessing/_encoders.py:868: FutureWarning: `sparse` was renamed to `sparse_output` in version 1.2 and will be removed in 1.4. `sparse_output` is ignored unless you leave `sparse` to its default value.\n",
            "  warnings.warn(\n"
          ]
        }
      ]
    },
    {
      "cell_type": "markdown",
      "source": [
        "*Carga de datos usando OrdinalEncoder:*"
      ],
      "metadata": {
        "id": "gVygOQ6Mhvc9"
      }
    },
    {
      "cell_type": "code",
      "source": [
        "def load_data_ordinal(file_path):\n",
        "    data = pd.read_csv(file_path)\n",
        "\n",
        "    # Detectar columnas no numéricas y numéricas\n",
        "    non_numeric_columns = data.select_dtypes(include=['object']).columns\n",
        "    numeric_columns = data.select_dtypes(include=[np.number]).columns\n",
        "\n",
        "    if len(non_numeric_columns) > 0:\n",
        "        # Codificar las columnas no numéricas como variables ordinales\n",
        "        encoder = OrdinalEncoder()\n",
        "        ordinal_encoded_data = encoder.fit_transform(data[non_numeric_columns])\n",
        "        ordinal_encoded_columns = pd.DataFrame(ordinal_encoded_data, columns=non_numeric_columns)\n",
        "\n",
        "    if len(numeric_columns) > 0:\n",
        "        # Escalar las columnas numéricas\n",
        "        scaler = StandardScaler()\n",
        "        scaled_numeric_data = scaler.fit_transform(data[numeric_columns])\n",
        "        scaled_numeric_columns = pd.DataFrame(scaled_numeric_data, columns=numeric_columns)\n",
        "\n",
        "    # Combinar los datos codificados y escalados de nuevo en un solo DataFrame\n",
        "    if len(non_numeric_columns) > 0 and len(numeric_columns) > 0:\n",
        "        data = pd.concat([scaled_numeric_columns, ordinal_encoded_columns], axis=1)\n",
        "    elif len(non_numeric_columns) > 0:\n",
        "        data = ordinal_encoded_columns\n",
        "    elif len(numeric_columns) > 0:\n",
        "        data = scaled_numeric_columns\n",
        "\n",
        "    return data.values\n",
        "\n",
        "data_ordinal = load_data_ordinal(\"stars_data.csv\")"
      ],
      "metadata": {
        "id": "_tFLbC2LhylD"
      },
      "execution_count": 15,
      "outputs": []
    },
    {
      "cell_type": "markdown",
      "source": [
        "*Aplicando Hierarchical Clustering:*"
      ],
      "metadata": {
        "id": "49sTNvN2iwK5"
      }
    },
    {
      "cell_type": "code",
      "source": [
        "import matplotlib.pyplot as plt\n",
        "from sklearn.cluster import AgglomerativeClustering\n",
        "from scipy.cluster.hierarchy import dendrogram, linkage\n",
        "\n",
        "clustering = AgglomerativeClustering(n_clusters=3, affinity= 'euclidean' , linkage='ward')  # Número de clusters a encontrar\n",
        "labels_onehot = clustering.fit_predict(data_onehot)\n",
        "\n",
        "linkage_matrix_onehot = linkage(data_onehot, method='ward')\n",
        "# Generar un dendrograma para visualizar la jerarquía de clusters\n",
        "\n",
        "silhouette_avg = silhouette_score(data_onehot, labels_onehot)\n",
        "\n",
        "plt.figure(figsize=(10, 7))\n",
        "plt.title(\"Dendrograma Jerárquico con Silhouette Score: {:.2f}\".format(silhouette_avg))\n",
        "dendrogram(linkage_matrix_onehot)  # No necesitas pasar los datos reales, solo para visualizar la estructura jerárquica\n",
        "plt.show()\n",
        "\n",
        "# Imprimir los resultados del clustering\n",
        "print(\"Resultados del clustering jerárquico:\")\n",
        "print(labels_onehot)"
      ],
      "metadata": {
        "colab": {
          "base_uri": "https://localhost:8080/",
          "height": 816
        },
        "id": "8e02Qrkui4MD",
        "outputId": "12f15e37-b11c-4584-80e5-b579ae33932e"
      },
      "execution_count": 18,
      "outputs": [
        {
          "output_type": "stream",
          "name": "stderr",
          "text": [
            "/usr/local/lib/python3.10/dist-packages/sklearn/cluster/_agglomerative.py:983: FutureWarning: Attribute `affinity` was deprecated in version 1.2 and will be removed in 1.4. Use `metric` instead\n",
            "  warnings.warn(\n"
          ]
        },
        {
          "output_type": "display_data",
          "data": {
            "text/plain": [
              "<Figure size 1000x700 with 1 Axes>"
            ],
            "image/png": "[encoded data removed]"
          },
          "metadata": {}
        },
        {
          "output_type": "stream",
          "name": "stdout",
          "text": [
            "Resultados del clustering jerárquico:\n",
            "[0 0 0 0 0 0 0 0 0 0 0 0 0 0 0 0 0 0 0 0 0 0 0 0 0 0 0 0 0 0 2 0 0 0 0 0 0\n",
            " 0 0 0 1 1 1 1 1 1 1 1 1 2 1 1 1 1 1 1 1 1 1 1 0 0 0 0 0 0 0 0 0 0 0 0 0 0\n",
            " 0 0 0 0 0 0 0 0 0 0 0 0 0 0 0 0 0 0 0 0 0 0 0 0 0 2 2 2 2 2 2 2 2 2 2 2 1\n",
            " 1 1 1 1 1 1 1 1 1 0 0 0 0 0 0 0 0 0 0 0 0 0 0 0 0 0 0 0 0 0 0 0 0 0 0 0 0\n",
            " 0 0 0 0 0 0 0 0 0 0 0 2 2 2 2 2 2 2 2 2 2 2 1 1 1 1 1 1 1 1 1 1 0 0 0 0 0\n",
            " 0 0 0 0 0 0 0 0 0 0 0 0 0 0 0 0 0 0 0 0 0 0 0 0 0 0 0 0 0 2 2 0 0 0 0 2 2\n",
            " 2 2 2 2 2 2 2 2 1 1 1 1 1 1 1 1 1 1]\n"
          ]
        }
      ]
    },
    {
      "cell_type": "code",
      "source": [
        "labels_ordinal = clustering.fit_predict(data_ordinal)\n",
        "\n",
        "linkage_matrix_ordinal = linkage(data_ordinal, method='ward')\n",
        "# Generar un dendrograma para visualizar la jerarquía de clusters\n",
        "\n",
        "silhouette_avg = silhouette_score(data_ordinal, labels_ordinal)\n",
        "\n",
        "plt.figure(figsize=(10, 7))\n",
        "plt.title(\"Dendrograma Jerárquico con Silhouette Score: {:.2f}\".format(silhouette_avg))\n",
        "dendrogram(linkage_matrix_ordinal)  # No necesitas pasar los datos reales, solo para visualizar la estructura jerárquica\n",
        "plt.show()\n",
        "\n",
        "# Imprimir los resultados del clustering\n",
        "print(\"Resultados del clustering jerárquico:\")\n",
        "print(labels_ordinal)"
      ],
      "metadata": {
        "colab": {
          "base_uri": "https://localhost:8080/",
          "height": 816
        },
        "id": "8Tf2hCNpqnlh",
        "outputId": "6fc2314d-c2ea-4cad-d014-0ea0ae9f5888"
      },
      "execution_count": 19,
      "outputs": [
        {
          "output_type": "stream",
          "name": "stderr",
          "text": [
            "/usr/local/lib/python3.10/dist-packages/sklearn/cluster/_agglomerative.py:983: FutureWarning: Attribute `affinity` was deprecated in version 1.2 and will be removed in 1.4. Use `metric` instead\n",
            "  warnings.warn(\n"
          ]
        },
        {
          "output_type": "display_data",
          "data": {
            "text/plain": [
              "<Figure size 1000x700 with 1 Axes>"
            ],
            "image/png": "[encoded data removed]"
          },
          "metadata": {}
        },
        {
          "output_type": "stream",
          "name": "stdout",
          "text": [
            "Resultados del clustering jerárquico:\n",
            "[0 0 0 0 0 0 0 0 0 0 0 0 0 0 0 0 0 0 0 0 1 0 0 0 1 0 1 0 0 0 2 1 1 0 0 0 0\n",
            " 0 0 0 0 0 0 0 0 0 0 0 0 1 0 0 0 0 0 0 0 0 0 0 0 0 0 0 0 0 0 0 0 0 0 0 0 0\n",
            " 0 0 0 0 0 0 0 0 0 1 1 1 1 1 0 1 0 0 0 0 1 1 0 0 1 2 1 2 2 2 2 2 2 2 2 2 0\n",
            " 0 0 0 0 0 0 0 0 0 0 0 0 0 0 0 0 0 0 0 0 0 0 0 0 0 0 0 0 0 1 1 1 1 1 1 1 0\n",
            " 0 1 1 1 1 1 1 1 1 1 1 2 2 2 2 2 2 2 2 2 2 2 0 0 0 1 0 0 2 1 1 1 0 0 0 0 0\n",
            " 0 0 0 0 0 0 0 0 0 0 0 0 0 0 0 1 1 1 1 1 1 1 1 1 1 1 1 1 1 2 2 1 1 1 0 2 2\n",
            " 2 2 2 2 2 2 2 2 1 2 2 1 1 2 2 0 0 2]\n"
          ]
        }
      ]
    },
    {
      "cell_type": "markdown",
      "source": [
        "*Aplicando DBSCAN:*"
      ],
      "metadata": {
        "id": "hVPMCeERmLc3"
      }
    },
    {
      "cell_type": "code",
      "source": [
        "from sklearn.cluster import DBSCAN\n",
        "\n",
        "\n",
        "# Aplicar el algoritmo DBSCAN\n",
        "eps = 0.5  # Radio de vecindad\n",
        "min_samples = 5  # Número mínimo de puntos en una vecindad para ser considerado core point\n",
        "clustering = DBSCAN(eps=eps, min_samples=min_samples)\n",
        "labels_onehot = clustering.fit_predict(data_onehot)\n",
        "\n",
        "# Calcular el coeficiente de silueta (opcional)\n",
        "silhouette_avg = silhouette_score(data_onehot, labels_onehot)\n",
        "\n",
        "# Imprimir los resultados del clustering\n",
        "print(\"Resultados del clustering DBSCAN:\")\n",
        "print(labels_onehot)\n",
        "\n",
        "# Si deseas imprimir el coeficiente de silueta\n",
        "print(\"Coeficiente de Silueta:\", silhouette_avg)\n"
      ],
      "metadata": {
        "colab": {
          "base_uri": "https://localhost:8080/"
        },
        "id": "ykkbtAaqrOT6",
        "outputId": "b0b17bb6-6360-4302-843f-d6700cee7045"
      },
      "execution_count": 20,
      "outputs": [
        {
          "output_type": "stream",
          "name": "stdout",
          "text": [
            "Resultados del clustering DBSCAN:\n",
            "[ 0  0  0  0  0  0  0  0  0  0  0  0  0  0  0  0  0  0  0  0 -1 -1 -1 -1\n",
            "  1 -1 -1 -1 -1 -1  7 10 10 -1  2 -1  2  2  2  2  3  3  3  3  3  3  3  3\n",
            "  3 -1  4  4  4 -1  4  4 -1  4 -1  4  0  0  0  0  0  0  0  0  0  0  0  0\n",
            "  0  0  0  0  0  0  0  0 -1 -1 -1  1  1 -1  1  1 -1  5  2 -1 -1 -1  6  6\n",
            " -1  2  6  7 -1 -1  9  8 -1  8 -1  8  9 -1  4  4  4  4  4  4 -1 -1 -1  4\n",
            "  0  0  0  0  0  0  0  0  0  0  0  0  0  0  0  0  0  0  0  0  1  5  5  1\n",
            " -1 -1 -1 -1 -1  1 -1 -1  6 10 10 10 10 10  6  7  9  8 -1 -1  8 -1  8  9\n",
            " -1 -1  4  4 -1 -1  4  4 -1 -1 -1 -1  0  0  0  0  0  0  0  0  0  0  0  0\n",
            "  0  0  0  0  0  0  0  0  5  5  5  5  5  5  5  5  5  5 10  6  6 10  7  7\n",
            "  6 10 10  2 -1  8 -1 -1  8  8 -1 -1 -1 -1 -1 -1 -1 -1 -1 -1 -1 -1 -1 -1]\n",
            "Coeficiente de Silueta: 0.43722042408076595\n"
          ]
        }
      ]
    },
    {
      "cell_type": "code",
      "source": [
        "# Aplicar el algoritmo DBSCAN\n",
        "eps = 0.5  # Radio de vecindad\n",
        "min_samples = 5  # Número mínimo de puntos en una vecindad para ser considerado core point\n",
        "clustering = DBSCAN(eps=eps, min_samples=min_samples)\n",
        "labels_ordinal = clustering.fit_predict(data_ordinal)\n",
        "\n",
        "# Calcular el coeficiente de silueta (opcional)\n",
        "silhouette_avg = silhouette_score(data_ordinal, labels_ordinal)\n",
        "\n",
        "# Imprimir los resultados del clustering\n",
        "print(\"Resultados del clustering DBSCAN:\")\n",
        "print(labels_ordinal)\n",
        "\n",
        "# Si deseas imprimir el coeficiente de silueta\n",
        "print(\"Coeficiente de Silueta:\", silhouette_avg)"
      ],
      "metadata": {
        "colab": {
          "base_uri": "https://localhost:8080/"
        },
        "id": "o48WFpZtr7T7",
        "outputId": "5ea1008d-4a7f-411c-c3ac-768402f1eb21"
      },
      "execution_count": 21,
      "outputs": [
        {
          "output_type": "stream",
          "name": "stdout",
          "text": [
            "Resultados del clustering DBSCAN:\n",
            "[ 0  0  0  0  0  0  0  0  0  0  0  0  0  0  0  0  0  0  0  0 -1 -1 -1 -1\n",
            "  1 -1 -1 -1 -1 -1  7 10 10 -1  2 -1  2  2  2  2  3  3  3  3  3  3  3  3\n",
            "  3 -1  4  4  4 -1  4  4 -1  4 -1  4  0  0  0  0  0  0  0  0  0  0  0  0\n",
            "  0  0  0  0  0  0  0  0 -1 -1 -1  1  1 -1  1  1 -1  5  2 -1 -1 -1  6  6\n",
            " -1  2  6  7 -1 -1  9  8 -1  8 -1  8  9 -1  4  4  4  4  4  4 -1 -1 -1  4\n",
            "  0  0  0  0  0  0  0  0  0  0  0  0  0  0  0  0  0  0  0  0  1  5  5  1\n",
            " -1 -1 -1 -1 -1  1 -1 -1  6 10 10 10 10 10  6  7  9  8 -1 -1  8 -1  8  9\n",
            " -1 -1  4  4 -1 -1  4  4 -1 -1 -1 -1  0  0  0  0  0  0  0  0  0  0  0  0\n",
            "  0  0  0  0  0  0  0  0  5  5  5  5  5  5  5  5  5  5 10  6  6 10  7  7\n",
            "  6 10 10  2 -1  8 -1 -1  8  8 -1 -1 -1 -1 -1 -1 -1 -1 -1 -1 -1 -1 -1 -1]\n",
            "Coeficiente de Silueta: 0.3749654975063113\n"
          ]
        }
      ]
    }
  ]
}